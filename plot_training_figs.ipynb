{
 "cells": [
  {
   "cell_type": "code",
   "execution_count": 1,
   "metadata": {},
   "outputs": [],
   "source": [
    "import pandas as pd\n",
    "import plotly.express as px\n",
    "import wandb\n",
    "import plotly.graph_objects as go"
   ]
  },
  {
   "cell_type": "code",
   "execution_count": 2,
   "metadata": {},
   "outputs": [],
   "source": [
    "def export_project(project_name: str):\n",
    "    \"\"\"Load all runs from wandb project\"\"\"\n",
    "    api = wandb.Api()\n",
    "    entity, project = \"smtb2023\", project_name\n",
    "    runs = api.runs(entity + \"/\" + project)\n",
    "\n",
    "    summary_list, config_list, name_list = [], [], []\n",
    "    for run in runs:\n",
    "        summary_list.append(run.summary._json_dict)\n",
    "        config_list.append({k: v for k, v in run.config.items() if not k.startswith(\"_\")})\n",
    "        name_list.append(run.name)\n",
    "\n",
    "    runs_df = pd.DataFrame({\"summary\": summary_list, \"config\": config_list, \"name\": name_list})\n",
    "    rows = []\n",
    "    for i, row in runs_df.iterrows():\n",
    "        new_row = {}\n",
    "        new_row.update(row.summary)\n",
    "        new_row.update(row.config)\n",
    "        new_row.update({\"name\": row.name})\n",
    "        rows.append(new_row)\n",
    "    return pd.DataFrame(rows)"
   ]
  },
  {
   "cell_type": "code",
   "execution_count": 3,
   "metadata": {},
   "outputs": [],
   "source": [
    "df = export_project(\"stability\")\n",
    "df[\"layer_prog\"] = df.apply(lambda x: x[\"layer_num\"] / int(x[\"model_name\"].split(\"_\")[1][1:]), axis=1)\n",
    "df.sort_values(\"model_name\", inplace=True)\n",
    "df.sort_values(\"layer_num\", inplace=True)"
   ]
  },
  {
   "cell_type": "code",
   "execution_count": 18,
   "metadata": {},
   "outputs": [],
   "source": [
    "t = df[df[\"model_name\"] == \"esm2_t33_650M_UR50D\"]\n",
    "t = t[t[\"val/pearson\"].notna()][[\"model_name\", \"layer_prog\", \"val/pearson\"]]"
   ]
  },
  {
   "cell_type": "code",
   "execution_count": 19,
   "metadata": {},
   "outputs": [
    {
     "data": {
      "application/vnd.plotly.v1+json": {
       "config": {
        "plotlyServerURL": "https://plot.ly"
       },
       "data": [
        {
         "line": {
          "color": "blue"
         },
         "mode": "lines",
         "name": "Mean",
         "type": "scatter",
         "x": [
          0,
          0.030303030303030304,
          0.06060606060606061,
          0.09090909090909091,
          0.12121212121212122,
          0.15151515151515152,
          0.18181818181818182,
          0.21212121212121213,
          0.24242424242424243,
          0.2727272727272727,
          0.30303030303030304,
          0.3333333333333333,
          0.36363636363636365,
          0.3939393939393939,
          0.42424242424242425,
          0.45454545454545453,
          0.48484848484848486,
          0.5151515151515151,
          0.5454545454545454,
          0.5757575757575758,
          0.6060606060606061,
          0.6363636363636364,
          0.6666666666666666,
          0.696969696969697,
          0.7272727272727273,
          0.7575757575757576,
          0.7878787878787878,
          0.8181818181818182,
          0.8484848484848485,
          0.8787878787878788,
          0.9090909090909091,
          0.9393939393939394,
          0.9696969696969697,
          1
         ],
         "y": [
          0.38053663074970245,
          0.4783920347690582,
          0.7048559983571371,
          0.7504509190718333,
          0.7899175882339478,
          0.796825647354126,
          0.8009649515151978,
          0.8012070655822754,
          0.7928100228309631,
          0.7929239869117737,
          0.7811734676361084,
          0.7762795686721802,
          0.773270308971405,
          0.7655215263366699,
          0.7613372206687927,
          0.7500186562538147,
          0.7503604888916016,
          0.7484784126281738,
          0.7365853786468506,
          0.7413552403450012,
          0.738540768623352,
          0.7441309690475464,
          0.7470425367355347,
          0.7458704113960266,
          0.7418599724769592,
          0.7434542775154114,
          0.7464837431907654,
          0.7514342665672302,
          0.7520212531089783,
          0.7469607591629028,
          0.757874071598053,
          0.7611315846443176,
          0.7613617181777954,
          0.7758055329322815
         ]
        },
        {
         "fill": "toself",
         "fillcolor": "rgba(0,100,240,0.2)",
         "line": {
          "color": "rgba(255,255,255,0)"
         },
         "name": "Standard Deviation",
         "type": "scatter",
         "x": [
          0,
          0.030303030303030304,
          0.06060606060606061,
          0.09090909090909091,
          0.12121212121212122,
          0.15151515151515152,
          0.18181818181818182,
          0.21212121212121213,
          0.24242424242424243,
          0.2727272727272727,
          0.30303030303030304,
          0.3333333333333333,
          0.36363636363636365,
          0.3939393939393939,
          0.42424242424242425,
          0.45454545454545453,
          0.48484848484848486,
          0.5151515151515151,
          0.5454545454545454,
          0.5757575757575758,
          0.6060606060606061,
          0.6363636363636364,
          0.6666666666666666,
          0.696969696969697,
          0.7272727272727273,
          0.7575757575757576,
          0.7878787878787878,
          0.8181818181818182,
          0.8484848484848485,
          0.8787878787878788,
          0.9090909090909091,
          0.9393939393939394,
          0.9696969696969697,
          1,
          1,
          0.9696969696969697,
          0.9393939393939394,
          0.9090909090909091,
          0.8787878787878788,
          0.8484848484848485,
          0.8181818181818182,
          0.7878787878787878,
          0.7575757575757576,
          0.7272727272727273,
          0.696969696969697,
          0.6666666666666666,
          0.6363636363636364,
          0.6060606060606061,
          0.5757575757575758,
          0.5454545454545454,
          0.5151515151515151,
          0.48484848484848486,
          0.45454545454545453,
          0.42424242424242425,
          0.3939393939393939,
          0.36363636363636365,
          0.3333333333333333,
          0.30303030303030304,
          0.2727272727272727,
          0.24242424242424243,
          0.21212121212121213,
          0.18181818181818182,
          0.15151515151515152,
          0.12121212121212122,
          0.09090909090909091,
          0.06060606060606061,
          0.030303030303030304,
          0
         ],
         "y": [
          0.3718379735946655,
          0.40919771790504456,
          0.6740821599960327,
          0.6951702833175659,
          0.786573588848114,
          0.796825647354126,
          0.8009649515151978,
          0.8012070655822754,
          0.7928100228309631,
          0.7929239869117737,
          0.7811734676361084,
          0.7762795686721802,
          0.773270308971405,
          0.7655215263366699,
          0.7613372206687927,
          0.7500186562538147,
          0.7503604888916016,
          0.7484784126281738,
          0.7365853786468506,
          0.7413552403450012,
          0.738540768623352,
          0.7441309690475464,
          0.7470425367355347,
          0.7458704113960266,
          0.7418599724769592,
          0.7434542775154114,
          0.7464837431907654,
          0.7514342665672302,
          0.7520212531089783,
          0.7469607591629028,
          0.757874071598053,
          0.7611315846443176,
          0.7613617181777954,
          0.7758055329322815,
          0.7758055329322815,
          0.7613617181777954,
          0.7611315846443176,
          0.757874071598053,
          0.7469607591629028,
          0.7520212531089783,
          0.7514342665672302,
          0.7464837431907654,
          0.7434542775154114,
          0.7418599724769592,
          0.7458704113960266,
          0.7470425367355347,
          0.7441309690475464,
          0.738540768623352,
          0.7413552403450012,
          0.7365853786468506,
          0.7484784126281738,
          0.7503604888916016,
          0.7500186562538147,
          0.7613372206687927,
          0.7655215263366699,
          0.773270308971405,
          0.7762795686721802,
          0.7811734676361084,
          0.7929239869117737,
          0.7928100228309631,
          0.8012070655822754,
          0.8009649515151978,
          0.796825647354126,
          0.7954201102256775,
          0.7673414945602417,
          0.7129377126693726,
          0.5116022229194641,
          0.3857324719429016
         ]
        }
       ],
       "layout": {
        "showlegend": true,
        "template": {
         "data": {
          "bar": [
           {
            "error_x": {
             "color": "#2a3f5f"
            },
            "error_y": {
             "color": "#2a3f5f"
            },
            "marker": {
             "line": {
              "color": "#E5ECF6",
              "width": 0.5
             },
             "pattern": {
              "fillmode": "overlay",
              "size": 10,
              "solidity": 0.2
             }
            },
            "type": "bar"
           }
          ],
          "barpolar": [
           {
            "marker": {
             "line": {
              "color": "#E5ECF6",
              "width": 0.5
             },
             "pattern": {
              "fillmode": "overlay",
              "size": 10,
              "solidity": 0.2
             }
            },
            "type": "barpolar"
           }
          ],
          "carpet": [
           {
            "aaxis": {
             "endlinecolor": "#2a3f5f",
             "gridcolor": "white",
             "linecolor": "white",
             "minorgridcolor": "white",
             "startlinecolor": "#2a3f5f"
            },
            "baxis": {
             "endlinecolor": "#2a3f5f",
             "gridcolor": "white",
             "linecolor": "white",
             "minorgridcolor": "white",
             "startlinecolor": "#2a3f5f"
            },
            "type": "carpet"
           }
          ],
          "choropleth": [
           {
            "colorbar": {
             "outlinewidth": 0,
             "ticks": ""
            },
            "type": "choropleth"
           }
          ],
          "contour": [
           {
            "colorbar": {
             "outlinewidth": 0,
             "ticks": ""
            },
            "colorscale": [
             [
              0,
              "#0d0887"
             ],
             [
              0.1111111111111111,
              "#46039f"
             ],
             [
              0.2222222222222222,
              "#7201a8"
             ],
             [
              0.3333333333333333,
              "#9c179e"
             ],
             [
              0.4444444444444444,
              "#bd3786"
             ],
             [
              0.5555555555555556,
              "#d8576b"
             ],
             [
              0.6666666666666666,
              "#ed7953"
             ],
             [
              0.7777777777777778,
              "#fb9f3a"
             ],
             [
              0.8888888888888888,
              "#fdca26"
             ],
             [
              1,
              "#f0f921"
             ]
            ],
            "type": "contour"
           }
          ],
          "contourcarpet": [
           {
            "colorbar": {
             "outlinewidth": 0,
             "ticks": ""
            },
            "type": "contourcarpet"
           }
          ],
          "heatmap": [
           {
            "colorbar": {
             "outlinewidth": 0,
             "ticks": ""
            },
            "colorscale": [
             [
              0,
              "#0d0887"
             ],
             [
              0.1111111111111111,
              "#46039f"
             ],
             [
              0.2222222222222222,
              "#7201a8"
             ],
             [
              0.3333333333333333,
              "#9c179e"
             ],
             [
              0.4444444444444444,
              "#bd3786"
             ],
             [
              0.5555555555555556,
              "#d8576b"
             ],
             [
              0.6666666666666666,
              "#ed7953"
             ],
             [
              0.7777777777777778,
              "#fb9f3a"
             ],
             [
              0.8888888888888888,
              "#fdca26"
             ],
             [
              1,
              "#f0f921"
             ]
            ],
            "type": "heatmap"
           }
          ],
          "heatmapgl": [
           {
            "colorbar": {
             "outlinewidth": 0,
             "ticks": ""
            },
            "colorscale": [
             [
              0,
              "#0d0887"
             ],
             [
              0.1111111111111111,
              "#46039f"
             ],
             [
              0.2222222222222222,
              "#7201a8"
             ],
             [
              0.3333333333333333,
              "#9c179e"
             ],
             [
              0.4444444444444444,
              "#bd3786"
             ],
             [
              0.5555555555555556,
              "#d8576b"
             ],
             [
              0.6666666666666666,
              "#ed7953"
             ],
             [
              0.7777777777777778,
              "#fb9f3a"
             ],
             [
              0.8888888888888888,
              "#fdca26"
             ],
             [
              1,
              "#f0f921"
             ]
            ],
            "type": "heatmapgl"
           }
          ],
          "histogram": [
           {
            "marker": {
             "pattern": {
              "fillmode": "overlay",
              "size": 10,
              "solidity": 0.2
             }
            },
            "type": "histogram"
           }
          ],
          "histogram2d": [
           {
            "colorbar": {
             "outlinewidth": 0,
             "ticks": ""
            },
            "colorscale": [
             [
              0,
              "#0d0887"
             ],
             [
              0.1111111111111111,
              "#46039f"
             ],
             [
              0.2222222222222222,
              "#7201a8"
             ],
             [
              0.3333333333333333,
              "#9c179e"
             ],
             [
              0.4444444444444444,
              "#bd3786"
             ],
             [
              0.5555555555555556,
              "#d8576b"
             ],
             [
              0.6666666666666666,
              "#ed7953"
             ],
             [
              0.7777777777777778,
              "#fb9f3a"
             ],
             [
              0.8888888888888888,
              "#fdca26"
             ],
             [
              1,
              "#f0f921"
             ]
            ],
            "type": "histogram2d"
           }
          ],
          "histogram2dcontour": [
           {
            "colorbar": {
             "outlinewidth": 0,
             "ticks": ""
            },
            "colorscale": [
             [
              0,
              "#0d0887"
             ],
             [
              0.1111111111111111,
              "#46039f"
             ],
             [
              0.2222222222222222,
              "#7201a8"
             ],
             [
              0.3333333333333333,
              "#9c179e"
             ],
             [
              0.4444444444444444,
              "#bd3786"
             ],
             [
              0.5555555555555556,
              "#d8576b"
             ],
             [
              0.6666666666666666,
              "#ed7953"
             ],
             [
              0.7777777777777778,
              "#fb9f3a"
             ],
             [
              0.8888888888888888,
              "#fdca26"
             ],
             [
              1,
              "#f0f921"
             ]
            ],
            "type": "histogram2dcontour"
           }
          ],
          "mesh3d": [
           {
            "colorbar": {
             "outlinewidth": 0,
             "ticks": ""
            },
            "type": "mesh3d"
           }
          ],
          "parcoords": [
           {
            "line": {
             "colorbar": {
              "outlinewidth": 0,
              "ticks": ""
             }
            },
            "type": "parcoords"
           }
          ],
          "pie": [
           {
            "automargin": true,
            "type": "pie"
           }
          ],
          "scatter": [
           {
            "fillpattern": {
             "fillmode": "overlay",
             "size": 10,
             "solidity": 0.2
            },
            "type": "scatter"
           }
          ],
          "scatter3d": [
           {
            "line": {
             "colorbar": {
              "outlinewidth": 0,
              "ticks": ""
             }
            },
            "marker": {
             "colorbar": {
              "outlinewidth": 0,
              "ticks": ""
             }
            },
            "type": "scatter3d"
           }
          ],
          "scattercarpet": [
           {
            "marker": {
             "colorbar": {
              "outlinewidth": 0,
              "ticks": ""
             }
            },
            "type": "scattercarpet"
           }
          ],
          "scattergeo": [
           {
            "marker": {
             "colorbar": {
              "outlinewidth": 0,
              "ticks": ""
             }
            },
            "type": "scattergeo"
           }
          ],
          "scattergl": [
           {
            "marker": {
             "colorbar": {
              "outlinewidth": 0,
              "ticks": ""
             }
            },
            "type": "scattergl"
           }
          ],
          "scattermapbox": [
           {
            "marker": {
             "colorbar": {
              "outlinewidth": 0,
              "ticks": ""
             }
            },
            "type": "scattermapbox"
           }
          ],
          "scatterpolar": [
           {
            "marker": {
             "colorbar": {
              "outlinewidth": 0,
              "ticks": ""
             }
            },
            "type": "scatterpolar"
           }
          ],
          "scatterpolargl": [
           {
            "marker": {
             "colorbar": {
              "outlinewidth": 0,
              "ticks": ""
             }
            },
            "type": "scatterpolargl"
           }
          ],
          "scatterternary": [
           {
            "marker": {
             "colorbar": {
              "outlinewidth": 0,
              "ticks": ""
             }
            },
            "type": "scatterternary"
           }
          ],
          "surface": [
           {
            "colorbar": {
             "outlinewidth": 0,
             "ticks": ""
            },
            "colorscale": [
             [
              0,
              "#0d0887"
             ],
             [
              0.1111111111111111,
              "#46039f"
             ],
             [
              0.2222222222222222,
              "#7201a8"
             ],
             [
              0.3333333333333333,
              "#9c179e"
             ],
             [
              0.4444444444444444,
              "#bd3786"
             ],
             [
              0.5555555555555556,
              "#d8576b"
             ],
             [
              0.6666666666666666,
              "#ed7953"
             ],
             [
              0.7777777777777778,
              "#fb9f3a"
             ],
             [
              0.8888888888888888,
              "#fdca26"
             ],
             [
              1,
              "#f0f921"
             ]
            ],
            "type": "surface"
           }
          ],
          "table": [
           {
            "cells": {
             "fill": {
              "color": "#EBF0F8"
             },
             "line": {
              "color": "white"
             }
            },
            "header": {
             "fill": {
              "color": "#C8D4E3"
             },
             "line": {
              "color": "white"
             }
            },
            "type": "table"
           }
          ]
         },
         "layout": {
          "annotationdefaults": {
           "arrowcolor": "#2a3f5f",
           "arrowhead": 0,
           "arrowwidth": 1
          },
          "autotypenumbers": "strict",
          "coloraxis": {
           "colorbar": {
            "outlinewidth": 0,
            "ticks": ""
           }
          },
          "colorscale": {
           "diverging": [
            [
             0,
             "#8e0152"
            ],
            [
             0.1,
             "#c51b7d"
            ],
            [
             0.2,
             "#de77ae"
            ],
            [
             0.3,
             "#f1b6da"
            ],
            [
             0.4,
             "#fde0ef"
            ],
            [
             0.5,
             "#f7f7f7"
            ],
            [
             0.6,
             "#e6f5d0"
            ],
            [
             0.7,
             "#b8e186"
            ],
            [
             0.8,
             "#7fbc41"
            ],
            [
             0.9,
             "#4d9221"
            ],
            [
             1,
             "#276419"
            ]
           ],
           "sequential": [
            [
             0,
             "#0d0887"
            ],
            [
             0.1111111111111111,
             "#46039f"
            ],
            [
             0.2222222222222222,
             "#7201a8"
            ],
            [
             0.3333333333333333,
             "#9c179e"
            ],
            [
             0.4444444444444444,
             "#bd3786"
            ],
            [
             0.5555555555555556,
             "#d8576b"
            ],
            [
             0.6666666666666666,
             "#ed7953"
            ],
            [
             0.7777777777777778,
             "#fb9f3a"
            ],
            [
             0.8888888888888888,
             "#fdca26"
            ],
            [
             1,
             "#f0f921"
            ]
           ],
           "sequentialminus": [
            [
             0,
             "#0d0887"
            ],
            [
             0.1111111111111111,
             "#46039f"
            ],
            [
             0.2222222222222222,
             "#7201a8"
            ],
            [
             0.3333333333333333,
             "#9c179e"
            ],
            [
             0.4444444444444444,
             "#bd3786"
            ],
            [
             0.5555555555555556,
             "#d8576b"
            ],
            [
             0.6666666666666666,
             "#ed7953"
            ],
            [
             0.7777777777777778,
             "#fb9f3a"
            ],
            [
             0.8888888888888888,
             "#fdca26"
            ],
            [
             1,
             "#f0f921"
            ]
           ]
          },
          "colorway": [
           "#636efa",
           "#EF553B",
           "#00cc96",
           "#ab63fa",
           "#FFA15A",
           "#19d3f3",
           "#FF6692",
           "#B6E880",
           "#FF97FF",
           "#FECB52"
          ],
          "font": {
           "color": "#2a3f5f"
          },
          "geo": {
           "bgcolor": "white",
           "lakecolor": "white",
           "landcolor": "#E5ECF6",
           "showlakes": true,
           "showland": true,
           "subunitcolor": "white"
          },
          "hoverlabel": {
           "align": "left"
          },
          "hovermode": "closest",
          "mapbox": {
           "style": "light"
          },
          "paper_bgcolor": "white",
          "plot_bgcolor": "#E5ECF6",
          "polar": {
           "angularaxis": {
            "gridcolor": "white",
            "linecolor": "white",
            "ticks": ""
           },
           "bgcolor": "#E5ECF6",
           "radialaxis": {
            "gridcolor": "white",
            "linecolor": "white",
            "ticks": ""
           }
          },
          "scene": {
           "xaxis": {
            "backgroundcolor": "#E5ECF6",
            "gridcolor": "white",
            "gridwidth": 2,
            "linecolor": "white",
            "showbackground": true,
            "ticks": "",
            "zerolinecolor": "white"
           },
           "yaxis": {
            "backgroundcolor": "#E5ECF6",
            "gridcolor": "white",
            "gridwidth": 2,
            "linecolor": "white",
            "showbackground": true,
            "ticks": "",
            "zerolinecolor": "white"
           },
           "zaxis": {
            "backgroundcolor": "#E5ECF6",
            "gridcolor": "white",
            "gridwidth": 2,
            "linecolor": "white",
            "showbackground": true,
            "ticks": "",
            "zerolinecolor": "white"
           }
          },
          "shapedefaults": {
           "line": {
            "color": "#2a3f5f"
           }
          },
          "ternary": {
           "aaxis": {
            "gridcolor": "white",
            "linecolor": "white",
            "ticks": ""
           },
           "baxis": {
            "gridcolor": "white",
            "linecolor": "white",
            "ticks": ""
           },
           "bgcolor": "#E5ECF6",
           "caxis": {
            "gridcolor": "white",
            "linecolor": "white",
            "ticks": ""
           }
          },
          "title": {
           "x": 0.05
          },
          "xaxis": {
           "automargin": true,
           "gridcolor": "white",
           "linecolor": "white",
           "ticks": "",
           "title": {
            "standoff": 15
           },
           "zerolinecolor": "white",
           "zerolinewidth": 2
          },
          "yaxis": {
           "automargin": true,
           "gridcolor": "white",
           "linecolor": "white",
           "ticks": "",
           "title": {
            "standoff": 15
           },
           "zerolinecolor": "white",
           "zerolinewidth": 2
          }
         }
        },
        "title": {
         "text": "Layer Progress vs. Pearson Value"
        },
        "xaxis": {
         "title": {
          "text": "Layer Progress"
         }
        },
        "yaxis": {
         "title": {
          "text": "Pearson Value"
         }
        }
       }
      }
     },
     "metadata": {},
     "output_type": "display_data"
    }
   ],
   "source": [
    "# Calculate mean and standard deviation for each layer_prog\n",
    "grouped = t.groupby(\"layer_prog\")[\"val/pearson\"].agg([\"mean\", \"min\", \"max\"])\n",
    "\n",
    "# Plot using plotly\n",
    "fig = go.Figure()\n",
    "\n",
    "# Line for mean value\n",
    "fig.add_trace(\n",
    "    go.Scatter(\n",
    "        x=grouped.index,\n",
    "        y=grouped[\"mean\"],\n",
    "        mode=\"lines\",\n",
    "        name=\"Mean\",\n",
    "        line=dict(color=\"blue\"),\n",
    "    )\n",
    ")\n",
    "\n",
    "# Filled area for standard deviation\n",
    "fig.add_trace(\n",
    "    go.Scatter(\n",
    "        x=grouped.index.tolist() + grouped.index.tolist()[::-1],\n",
    "        y=(grouped[\"min\"]).tolist() + (grouped[\"max\"]).tolist()[::-1],\n",
    "        fill=\"toself\",\n",
    "        fillcolor=\"rgba(0,100,240,0.2)\",\n",
    "        line=dict(color=\"rgba(255,255,255,0)\"),\n",
    "        name=\"Standard Deviation\",\n",
    "    )\n",
    ")\n",
    "\n",
    "fig.update_layout(\n",
    "    title=\"Layer Progress vs. Pearson Value\",\n",
    "    xaxis_title=\"Layer Progress\",\n",
    "    yaxis_title=\"Pearson Value\",\n",
    "    showlegend=True,\n",
    ")\n",
    "\n",
    "fig.show()"
   ]
  },
  {
   "cell_type": "code",
   "execution_count": null,
   "metadata": {},
   "outputs": [],
   "source": []
  },
  {
   "cell_type": "code",
   "execution_count": 20,
   "metadata": {},
   "outputs": [
    {
     "data": {
      "text/html": [
       "<div>\n",
       "<style scoped>\n",
       "    .dataframe tbody tr th:only-of-type {\n",
       "        vertical-align: middle;\n",
       "    }\n",
       "\n",
       "    .dataframe tbody tr th {\n",
       "        vertical-align: top;\n",
       "    }\n",
       "\n",
       "    .dataframe thead th {\n",
       "        text-align: right;\n",
       "    }\n",
       "</style>\n",
       "<table border=\"1\" class=\"dataframe\">\n",
       "  <thead>\n",
       "    <tr style=\"text-align: right;\">\n",
       "      <th></th>\n",
       "      <th>model_name</th>\n",
       "      <th>layer_prog</th>\n",
       "      <th>val/pearson</th>\n",
       "    </tr>\n",
       "  </thead>\n",
       "  <tbody>\n",
       "    <tr>\n",
       "      <th>134</th>\n",
       "      <td>esm2_t33_650M_UR50D</td>\n",
       "      <td>0.000000</td>\n",
       "      <td>0.385732</td>\n",
       "    </tr>\n",
       "    <tr>\n",
       "      <th>124</th>\n",
       "      <td>esm2_t33_650M_UR50D</td>\n",
       "      <td>0.000000</td>\n",
       "      <td>0.379140</td>\n",
       "    </tr>\n",
       "    <tr>\n",
       "      <th>183</th>\n",
       "      <td>esm2_t33_650M_UR50D</td>\n",
       "      <td>0.000000</td>\n",
       "      <td>0.371838</td>\n",
       "    </tr>\n",
       "    <tr>\n",
       "      <th>115</th>\n",
       "      <td>esm2_t33_650M_UR50D</td>\n",
       "      <td>0.000000</td>\n",
       "      <td>0.382675</td>\n",
       "    </tr>\n",
       "    <tr>\n",
       "      <th>117</th>\n",
       "      <td>esm2_t33_650M_UR50D</td>\n",
       "      <td>0.000000</td>\n",
       "      <td>0.382913</td>\n",
       "    </tr>\n",
       "    <tr>\n",
       "      <th>121</th>\n",
       "      <td>esm2_t33_650M_UR50D</td>\n",
       "      <td>0.000000</td>\n",
       "      <td>0.380921</td>\n",
       "    </tr>\n",
       "    <tr>\n",
       "      <th>96</th>\n",
       "      <td>esm2_t33_650M_UR50D</td>\n",
       "      <td>0.030303</td>\n",
       "      <td>0.476102</td>\n",
       "    </tr>\n",
       "    <tr>\n",
       "      <th>180</th>\n",
       "      <td>esm2_t33_650M_UR50D</td>\n",
       "      <td>0.030303</td>\n",
       "      <td>0.409198</td>\n",
       "    </tr>\n",
       "    <tr>\n",
       "      <th>103</th>\n",
       "      <td>esm2_t33_650M_UR50D</td>\n",
       "      <td>0.030303</td>\n",
       "      <td>0.511602</td>\n",
       "    </tr>\n",
       "    <tr>\n",
       "      <th>98</th>\n",
       "      <td>esm2_t33_650M_UR50D</td>\n",
       "      <td>0.030303</td>\n",
       "      <td>0.508983</td>\n",
       "    </tr>\n",
       "    <tr>\n",
       "      <th>94</th>\n",
       "      <td>esm2_t33_650M_UR50D</td>\n",
       "      <td>0.030303</td>\n",
       "      <td>0.506916</td>\n",
       "    </tr>\n",
       "    <tr>\n",
       "      <th>99</th>\n",
       "      <td>esm2_t33_650M_UR50D</td>\n",
       "      <td>0.030303</td>\n",
       "      <td>0.457551</td>\n",
       "    </tr>\n",
       "    <tr>\n",
       "      <th>40</th>\n",
       "      <td>esm2_t33_650M_UR50D</td>\n",
       "      <td>0.060606</td>\n",
       "      <td>0.709539</td>\n",
       "    </tr>\n",
       "    <tr>\n",
       "      <th>80</th>\n",
       "      <td>esm2_t33_650M_UR50D</td>\n",
       "      <td>0.060606</td>\n",
       "      <td>0.712547</td>\n",
       "    </tr>\n",
       "    <tr>\n",
       "      <th>67</th>\n",
       "      <td>esm2_t33_650M_UR50D</td>\n",
       "      <td>0.060606</td>\n",
       "      <td>0.707837</td>\n",
       "    </tr>\n",
       "    <tr>\n",
       "      <th>63</th>\n",
       "      <td>esm2_t33_650M_UR50D</td>\n",
       "      <td>0.060606</td>\n",
       "      <td>0.712193</td>\n",
       "    </tr>\n",
       "    <tr>\n",
       "      <th>48</th>\n",
       "      <td>esm2_t33_650M_UR50D</td>\n",
       "      <td>0.060606</td>\n",
       "      <td>0.712938</td>\n",
       "    </tr>\n",
       "    <tr>\n",
       "      <th>178</th>\n",
       "      <td>esm2_t33_650M_UR50D</td>\n",
       "      <td>0.060606</td>\n",
       "      <td>0.674082</td>\n",
       "    </tr>\n",
       "    <tr>\n",
       "      <th>44</th>\n",
       "      <td>esm2_t33_650M_UR50D</td>\n",
       "      <td>0.090909</td>\n",
       "      <td>0.759103</td>\n",
       "    </tr>\n",
       "    <tr>\n",
       "      <th>23</th>\n",
       "      <td>esm2_t33_650M_UR50D</td>\n",
       "      <td>0.090909</td>\n",
       "      <td>0.763085</td>\n",
       "    </tr>\n",
       "    <tr>\n",
       "      <th>35</th>\n",
       "      <td>esm2_t33_650M_UR50D</td>\n",
       "      <td>0.090909</td>\n",
       "      <td>0.767341</td>\n",
       "    </tr>\n",
       "    <tr>\n",
       "      <th>12</th>\n",
       "      <td>esm2_t33_650M_UR50D</td>\n",
       "      <td>0.090909</td>\n",
       "      <td>0.761375</td>\n",
       "    </tr>\n",
       "    <tr>\n",
       "      <th>7</th>\n",
       "      <td>esm2_t33_650M_UR50D</td>\n",
       "      <td>0.090909</td>\n",
       "      <td>0.695170</td>\n",
       "    </tr>\n",
       "    <tr>\n",
       "      <th>175</th>\n",
       "      <td>esm2_t33_650M_UR50D</td>\n",
       "      <td>0.090909</td>\n",
       "      <td>0.756632</td>\n",
       "    </tr>\n",
       "    <tr>\n",
       "      <th>19</th>\n",
       "      <td>esm2_t33_650M_UR50D</td>\n",
       "      <td>0.121212</td>\n",
       "      <td>0.786574</td>\n",
       "    </tr>\n",
       "    <tr>\n",
       "      <th>13</th>\n",
       "      <td>esm2_t33_650M_UR50D</td>\n",
       "      <td>0.121212</td>\n",
       "      <td>0.787759</td>\n",
       "    </tr>\n",
       "    <tr>\n",
       "      <th>171</th>\n",
       "      <td>esm2_t33_650M_UR50D</td>\n",
       "      <td>0.121212</td>\n",
       "      <td>0.795420</td>\n",
       "    </tr>\n",
       "    <tr>\n",
       "      <th>167</th>\n",
       "      <td>esm2_t33_650M_UR50D</td>\n",
       "      <td>0.151515</td>\n",
       "      <td>0.796826</td>\n",
       "    </tr>\n",
       "    <tr>\n",
       "      <th>165</th>\n",
       "      <td>esm2_t33_650M_UR50D</td>\n",
       "      <td>0.181818</td>\n",
       "      <td>0.800965</td>\n",
       "    </tr>\n",
       "    <tr>\n",
       "      <th>163</th>\n",
       "      <td>esm2_t33_650M_UR50D</td>\n",
       "      <td>0.212121</td>\n",
       "      <td>0.801207</td>\n",
       "    </tr>\n",
       "    <tr>\n",
       "      <th>160</th>\n",
       "      <td>esm2_t33_650M_UR50D</td>\n",
       "      <td>0.242424</td>\n",
       "      <td>0.792810</td>\n",
       "    </tr>\n",
       "    <tr>\n",
       "      <th>159</th>\n",
       "      <td>esm2_t33_650M_UR50D</td>\n",
       "      <td>0.272727</td>\n",
       "      <td>0.792924</td>\n",
       "    </tr>\n",
       "    <tr>\n",
       "      <th>158</th>\n",
       "      <td>esm2_t33_650M_UR50D</td>\n",
       "      <td>0.303030</td>\n",
       "      <td>0.781173</td>\n",
       "    </tr>\n",
       "    <tr>\n",
       "      <th>157</th>\n",
       "      <td>esm2_t33_650M_UR50D</td>\n",
       "      <td>0.333333</td>\n",
       "      <td>0.776280</td>\n",
       "    </tr>\n",
       "    <tr>\n",
       "      <th>156</th>\n",
       "      <td>esm2_t33_650M_UR50D</td>\n",
       "      <td>0.363636</td>\n",
       "      <td>0.773270</td>\n",
       "    </tr>\n",
       "    <tr>\n",
       "      <th>155</th>\n",
       "      <td>esm2_t33_650M_UR50D</td>\n",
       "      <td>0.393939</td>\n",
       "      <td>0.765522</td>\n",
       "    </tr>\n",
       "    <tr>\n",
       "      <th>154</th>\n",
       "      <td>esm2_t33_650M_UR50D</td>\n",
       "      <td>0.424242</td>\n",
       "      <td>0.761337</td>\n",
       "    </tr>\n",
       "    <tr>\n",
       "      <th>153</th>\n",
       "      <td>esm2_t33_650M_UR50D</td>\n",
       "      <td>0.454545</td>\n",
       "      <td>0.750019</td>\n",
       "    </tr>\n",
       "    <tr>\n",
       "      <th>152</th>\n",
       "      <td>esm2_t33_650M_UR50D</td>\n",
       "      <td>0.484848</td>\n",
       "      <td>0.750360</td>\n",
       "    </tr>\n",
       "    <tr>\n",
       "      <th>151</th>\n",
       "      <td>esm2_t33_650M_UR50D</td>\n",
       "      <td>0.515152</td>\n",
       "      <td>0.748478</td>\n",
       "    </tr>\n",
       "    <tr>\n",
       "      <th>150</th>\n",
       "      <td>esm2_t33_650M_UR50D</td>\n",
       "      <td>0.545455</td>\n",
       "      <td>0.736585</td>\n",
       "    </tr>\n",
       "    <tr>\n",
       "      <th>149</th>\n",
       "      <td>esm2_t33_650M_UR50D</td>\n",
       "      <td>0.575758</td>\n",
       "      <td>0.741355</td>\n",
       "    </tr>\n",
       "    <tr>\n",
       "      <th>148</th>\n",
       "      <td>esm2_t33_650M_UR50D</td>\n",
       "      <td>0.606061</td>\n",
       "      <td>0.738541</td>\n",
       "    </tr>\n",
       "    <tr>\n",
       "      <th>147</th>\n",
       "      <td>esm2_t33_650M_UR50D</td>\n",
       "      <td>0.636364</td>\n",
       "      <td>0.744131</td>\n",
       "    </tr>\n",
       "    <tr>\n",
       "      <th>146</th>\n",
       "      <td>esm2_t33_650M_UR50D</td>\n",
       "      <td>0.666667</td>\n",
       "      <td>0.747043</td>\n",
       "    </tr>\n",
       "    <tr>\n",
       "      <th>145</th>\n",
       "      <td>esm2_t33_650M_UR50D</td>\n",
       "      <td>0.696970</td>\n",
       "      <td>0.745870</td>\n",
       "    </tr>\n",
       "    <tr>\n",
       "      <th>144</th>\n",
       "      <td>esm2_t33_650M_UR50D</td>\n",
       "      <td>0.727273</td>\n",
       "      <td>0.741860</td>\n",
       "    </tr>\n",
       "    <tr>\n",
       "      <th>143</th>\n",
       "      <td>esm2_t33_650M_UR50D</td>\n",
       "      <td>0.757576</td>\n",
       "      <td>0.743454</td>\n",
       "    </tr>\n",
       "    <tr>\n",
       "      <th>142</th>\n",
       "      <td>esm2_t33_650M_UR50D</td>\n",
       "      <td>0.787879</td>\n",
       "      <td>0.746484</td>\n",
       "    </tr>\n",
       "    <tr>\n",
       "      <th>141</th>\n",
       "      <td>esm2_t33_650M_UR50D</td>\n",
       "      <td>0.818182</td>\n",
       "      <td>0.751434</td>\n",
       "    </tr>\n",
       "    <tr>\n",
       "      <th>140</th>\n",
       "      <td>esm2_t33_650M_UR50D</td>\n",
       "      <td>0.848485</td>\n",
       "      <td>0.752021</td>\n",
       "    </tr>\n",
       "    <tr>\n",
       "      <th>139</th>\n",
       "      <td>esm2_t33_650M_UR50D</td>\n",
       "      <td>0.878788</td>\n",
       "      <td>0.746961</td>\n",
       "    </tr>\n",
       "    <tr>\n",
       "      <th>138</th>\n",
       "      <td>esm2_t33_650M_UR50D</td>\n",
       "      <td>0.909091</td>\n",
       "      <td>0.757874</td>\n",
       "    </tr>\n",
       "    <tr>\n",
       "      <th>137</th>\n",
       "      <td>esm2_t33_650M_UR50D</td>\n",
       "      <td>0.939394</td>\n",
       "      <td>0.761132</td>\n",
       "    </tr>\n",
       "    <tr>\n",
       "      <th>136</th>\n",
       "      <td>esm2_t33_650M_UR50D</td>\n",
       "      <td>0.969697</td>\n",
       "      <td>0.761362</td>\n",
       "    </tr>\n",
       "    <tr>\n",
       "      <th>135</th>\n",
       "      <td>esm2_t33_650M_UR50D</td>\n",
       "      <td>1.000000</td>\n",
       "      <td>0.775806</td>\n",
       "    </tr>\n",
       "  </tbody>\n",
       "</table>\n",
       "</div>"
      ],
      "text/plain": [
       "              model_name  layer_prog  val/pearson\n",
       "134  esm2_t33_650M_UR50D    0.000000     0.385732\n",
       "124  esm2_t33_650M_UR50D    0.000000     0.379140\n",
       "183  esm2_t33_650M_UR50D    0.000000     0.371838\n",
       "115  esm2_t33_650M_UR50D    0.000000     0.382675\n",
       "117  esm2_t33_650M_UR50D    0.000000     0.382913\n",
       "121  esm2_t33_650M_UR50D    0.000000     0.380921\n",
       "96   esm2_t33_650M_UR50D    0.030303     0.476102\n",
       "180  esm2_t33_650M_UR50D    0.030303     0.409198\n",
       "103  esm2_t33_650M_UR50D    0.030303     0.511602\n",
       "98   esm2_t33_650M_UR50D    0.030303     0.508983\n",
       "94   esm2_t33_650M_UR50D    0.030303     0.506916\n",
       "99   esm2_t33_650M_UR50D    0.030303     0.457551\n",
       "40   esm2_t33_650M_UR50D    0.060606     0.709539\n",
       "80   esm2_t33_650M_UR50D    0.060606     0.712547\n",
       "67   esm2_t33_650M_UR50D    0.060606     0.707837\n",
       "63   esm2_t33_650M_UR50D    0.060606     0.712193\n",
       "48   esm2_t33_650M_UR50D    0.060606     0.712938\n",
       "178  esm2_t33_650M_UR50D    0.060606     0.674082\n",
       "44   esm2_t33_650M_UR50D    0.090909     0.759103\n",
       "23   esm2_t33_650M_UR50D    0.090909     0.763085\n",
       "35   esm2_t33_650M_UR50D    0.090909     0.767341\n",
       "12   esm2_t33_650M_UR50D    0.090909     0.761375\n",
       "7    esm2_t33_650M_UR50D    0.090909     0.695170\n",
       "175  esm2_t33_650M_UR50D    0.090909     0.756632\n",
       "19   esm2_t33_650M_UR50D    0.121212     0.786574\n",
       "13   esm2_t33_650M_UR50D    0.121212     0.787759\n",
       "171  esm2_t33_650M_UR50D    0.121212     0.795420\n",
       "167  esm2_t33_650M_UR50D    0.151515     0.796826\n",
       "165  esm2_t33_650M_UR50D    0.181818     0.800965\n",
       "163  esm2_t33_650M_UR50D    0.212121     0.801207\n",
       "160  esm2_t33_650M_UR50D    0.242424     0.792810\n",
       "159  esm2_t33_650M_UR50D    0.272727     0.792924\n",
       "158  esm2_t33_650M_UR50D    0.303030     0.781173\n",
       "157  esm2_t33_650M_UR50D    0.333333     0.776280\n",
       "156  esm2_t33_650M_UR50D    0.363636     0.773270\n",
       "155  esm2_t33_650M_UR50D    0.393939     0.765522\n",
       "154  esm2_t33_650M_UR50D    0.424242     0.761337\n",
       "153  esm2_t33_650M_UR50D    0.454545     0.750019\n",
       "152  esm2_t33_650M_UR50D    0.484848     0.750360\n",
       "151  esm2_t33_650M_UR50D    0.515152     0.748478\n",
       "150  esm2_t33_650M_UR50D    0.545455     0.736585\n",
       "149  esm2_t33_650M_UR50D    0.575758     0.741355\n",
       "148  esm2_t33_650M_UR50D    0.606061     0.738541\n",
       "147  esm2_t33_650M_UR50D    0.636364     0.744131\n",
       "146  esm2_t33_650M_UR50D    0.666667     0.747043\n",
       "145  esm2_t33_650M_UR50D    0.696970     0.745870\n",
       "144  esm2_t33_650M_UR50D    0.727273     0.741860\n",
       "143  esm2_t33_650M_UR50D    0.757576     0.743454\n",
       "142  esm2_t33_650M_UR50D    0.787879     0.746484\n",
       "141  esm2_t33_650M_UR50D    0.818182     0.751434\n",
       "140  esm2_t33_650M_UR50D    0.848485     0.752021\n",
       "139  esm2_t33_650M_UR50D    0.878788     0.746961\n",
       "138  esm2_t33_650M_UR50D    0.909091     0.757874\n",
       "137  esm2_t33_650M_UR50D    0.939394     0.761132\n",
       "136  esm2_t33_650M_UR50D    0.969697     0.761362\n",
       "135  esm2_t33_650M_UR50D    1.000000     0.775806"
      ]
     },
     "execution_count": 20,
     "metadata": {},
     "output_type": "execute_result"
    }
   ],
   "source": [
    "t"
   ]
  },
  {
   "cell_type": "code",
   "execution_count": null,
   "metadata": {},
   "outputs": [],
   "source": []
  }
 ],
 "metadata": {
  "kernelspec": {
   "display_name": "rindti",
   "language": "python",
   "name": "python3"
  },
  "language_info": {
   "codemirror_mode": {
    "name": "ipython",
    "version": 3
   },
   "file_extension": ".py",
   "mimetype": "text/x-python",
   "name": "python",
   "nbconvert_exporter": "python",
   "pygments_lexer": "ipython3",
   "version": "3.8.13"
  },
  "orig_nbformat": 4
 },
 "nbformat": 4,
 "nbformat_minor": 2
}
