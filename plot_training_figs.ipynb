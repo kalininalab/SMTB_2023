{
 "cells": [
  {
   "cell_type": "code",
   "execution_count": null,
   "metadata": {},
   "outputs": [],
   "source": [
    "import pandas as pd\n",
    "import plotly.express as px\n",
    "import wandb"
   ]
  },
  {
   "cell_type": "code",
   "execution_count": null,
   "metadata": {},
   "outputs": [],
   "source": [
    "def export_project(project_name: str):\n",
    "    \"\"\"Load all runs from wandb project\"\"\"\n",
    "    api = wandb.Api()\n",
    "    entity, project = \"smtb2023\", project_name\n",
    "    runs = api.runs(entity + \"/\" + project)\n",
    "\n",
    "    summary_list, config_list, name_list = [], [], []\n",
    "    for run in runs:\n",
    "        summary_list.append(run.summary._json_dict)\n",
    "        config_list.append({k: v for k, v in run.config.items() if not k.startswith(\"_\")})\n",
    "        name_list.append(run.name)\n",
    "\n",
    "    runs_df = pd.DataFrame({\"summary\": summary_list, \"config\": config_list, \"name\": name_list})\n",
    "    rows = []\n",
    "    for i, row in runs_df.iterrows():\n",
    "        new_row = {}\n",
    "        new_row.update(row.summary)\n",
    "        new_row.update(row.config)\n",
    "        new_row.update({\"name\": row.name})\n",
    "        rows.append(new_row)\n",
    "    return pd.DataFrame(rows)"
   ]
  },
  {
   "cell_type": "code",
   "execution_count": null,
   "metadata": {},
   "outputs": [],
   "source": [
    "df = export_project(\"fluorescence\")"
   ]
  },
  {
   "cell_type": "code",
   "execution_count": null,
   "metadata": {},
   "outputs": [],
   "source": [
    "# get layer progress (layer / total_layers)\n",
    "df['layer_prog'] = df.apply(lambda x: x['layer_num'] / int(x['model_name'].split('_')[1][1:]), axis=1)\n",
    "df.sort_values(\"model_name\", inplace=True)\n",
    "df.sort_values(\"layer_num\", inplace=True)"
   ]
  },
  {
   "cell_type": "code",
   "execution_count": null,
   "metadata": {},
   "outputs": [],
   "source": [
    "px.line(df, x=\"layer_prog\", y=\"test/pearson\", color=\"model_name\")"
   ]
  },
  {
   "cell_type": "code",
   "execution_count": null,
   "metadata": {},
   "outputs": [],
   "source": []
  }
 ],
 "metadata": {
  "kernelspec": {
   "display_name": "rindti",
   "language": "python",
   "name": "python3"
  },
  "language_info": {
   "codemirror_mode": {
    "name": "ipython",
    "version": 3
   },
   "file_extension": ".py",
   "mimetype": "text/x-python",
   "name": "python",
   "nbconvert_exporter": "python",
   "pygments_lexer": "ipython3",
   "version": "3.8.13"
  },
  "orig_nbformat": 4
 },
 "nbformat": 4,
 "nbformat_minor": 2
}
