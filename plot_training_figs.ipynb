{
 "cells": [
  {
   "cell_type": "code",
   "execution_count": 1,
   "metadata": {},
   "outputs": [],
   "source": [
    "import pandas as pd\n",
    "import plotly.express as px\n",
    "import wandb\n",
    "import plotly.graph_objects as go"
   ]
  },
  {
   "cell_type": "code",
   "execution_count": 2,
   "metadata": {},
   "outputs": [],
   "source": [
    "def export_project(project_name: str):\n",
    "    \"\"\"Load all runs from wandb project\"\"\"\n",
    "    api = wandb.Api()\n",
    "    entity, project = \"smtb2023\", project_name\n",
    "    runs = api.runs(entity + \"/\" + project)\n",
    "\n",
    "    summary_list, config_list, name_list = [], [], []\n",
    "    for run in runs:\n",
    "        summary_list.append(run.summary._json_dict)\n",
    "        config_list.append({k: v for k, v in run.config.items() if not k.startswith(\"_\")})\n",
    "        name_list.append(run.name)\n",
    "\n",
    "    runs_df = pd.DataFrame({\"summary\": summary_list, \"config\": config_list, \"name\": name_list})\n",
    "    rows = []\n",
    "    for i, row in runs_df.iterrows():\n",
    "        new_row = {}\n",
    "        new_row.update(row.summary)\n",
    "        new_row.update(row.config)\n",
    "        new_row.update({\"name\": row.name})\n",
    "        rows.append(new_row)\n",
    "    return pd.DataFrame(rows)\n"
   ]
  },
  {
   "cell_type": "code",
   "execution_count": 3,
   "metadata": {},
   "outputs": [],
   "source": [
    "df = export_project(\"fluorescence\")\n",
    "df[\"layer_prog\"] = df.apply(lambda x: x[\"layer_num\"] / int(x[\"model_name\"].split(\"_\")[1][1:]), axis=1)\n",
    "df.sort_values(\"model_name\", inplace=True)\n",
    "df[\"total_layers\"] = df[\"model_name\"].apply(lambda x: int(x.split(\"_\")[1][1:]))\n",
    "df.sort_values(\"total_layers\", inplace=True)"
   ]
  },
  {
   "cell_type": "code",
   "execution_count": 5,
   "metadata": {},
   "outputs": [
    {
     "data": {
      "application/vnd.plotly.v1+json": {
       "config": {
        "plotlyServerURL": "https://plot.ly"
       },
       "data": [
        {
         "line": {
          "color": "rgb(0, 0, 255)"
         },
         "mode": "lines",
         "name": "esm2_t12_35M_UR50D Mean",
         "type": "scatter",
         "x": [
          0,
          0.08333333333333333,
          0.16666666666666666,
          0.25,
          0.3333333333333333,
          0.4166666666666667,
          0.5,
          0.5833333333333334,
          0.6666666666666666,
          0.75,
          0.8333333333333334,
          0.9166666666666666,
          1
         ],
         "y": [
          0.40436096116900444,
          0.6120080873370171,
          0.7544912397861481,
          0.7873202115297318,
          0.7853710055351257,
          0.7936003804206848,
          0.786479651927948,
          0.7763309478759766,
          0.7895817955334982,
          0.7581300934155782,
          0.7762137850125631,
          0.7756897211074829,
          0.7633453210194906
         ]
        },
        {
         "fill": "toself",
         "fillcolor": "rgba(0,0,255,0.1)",
         "line": {
          "color": "rgba(255,255,255,0)"
         },
         "name": "esm2_t12_35M_UR50D Std Dev",
         "showlegend": false,
         "type": "scatter",
         "x": [
          0,
          0.08333333333333333,
          0.16666666666666666,
          0.25,
          0.3333333333333333,
          0.4166666666666667,
          0.5,
          0.5833333333333334,
          0.6666666666666666,
          0.75,
          0.8333333333333334,
          0.9166666666666666,
          1,
          1,
          0.9166666666666666,
          0.8333333333333334,
          0.75,
          0.6666666666666666,
          0.5833333333333334,
          0.5,
          0.4166666666666667,
          0.3333333333333333,
          0.25,
          0.16666666666666666,
          0.08333333333333333,
          0
         ],
         "y": [
          0.40366625064689693,
          0.5924611797264395,
          0.7191994235290603,
          0.7682618990751319,
          0.7661404711416474,
          0.7574899536721827,
          0.766015963632823,
          0.7411669420149778,
          0.7661156777409129,
          0.7388669264064952,
          0.7523528961397892,
          0.7557123129439359,
          0.7364138542621046,
          0.7902767877768766,
          0.7956671292710299,
          0.800074673885337,
          0.7773932604246613,
          0.8130479133260834,
          0.8114949537369753,
          0.806943340223073,
          0.8297108071691869,
          0.8046015399286041,
          0.8063785239843316,
          0.7897830560432358,
          0.6315549949475946,
          0.40505567169111195
         ]
        },
        {
         "line": {
          "color": "rgb(255, 0, 0)"
         },
         "mode": "lines",
         "name": "esm2_t30_150M_UR50D Mean",
         "type": "scatter",
         "x": [
          0,
          0.03333333333333333,
          0.06666666666666667,
          0.1,
          0.13333333333333333,
          0.16666666666666666,
          0.2,
          0.23333333333333334,
          0.26666666666666666,
          0.3,
          0.3333333333333333,
          0.36666666666666664,
          0.4,
          0.43333333333333335,
          0.4666666666666667,
          0.5,
          0.5333333333333333,
          0.5666666666666667,
          0.6,
          0.6333333333333333,
          0.6666666666666666,
          0.7,
          0.7333333333333333,
          0.7666666666666667,
          0.8,
          0.8333333333333334,
          0.8666666666666667,
          0.9,
          0.9333333333333333,
          0.9666666666666667,
          1
         ],
         "y": [
          0.40458914637565613,
          0.5206771306693554,
          0.590540315423693,
          0.7736217379570007,
          0.815721869468689,
          0.8393357594807943,
          0.8285531202952067,
          0.8505031863848368,
          0.7992806831995646,
          0.8087329665819804,
          0.8094254930814108,
          0.786408801873525,
          0.777728796005249,
          0.7696828444798788,
          0.7740323742230734,
          0.7645800709724426,
          0.7390918334325155,
          0.7589239080746969,
          0.7669205665588379,
          0.7335205872853597,
          0.7410250504811605,
          0.7225179274876913,
          0.745316743850708,
          0.7341098388036092,
          0.7511094808578491,
          0.7543831666310629,
          0.7505880991617838,
          0.7610540588696798,
          0.7852773666381836,
          0.7684013644854227,
          0.75519859790802
         ]
        },
        {
         "fill": "toself",
         "fillcolor": "rgba(255,0,0,0.1)",
         "line": {
          "color": "rgba(255,255,255,0)"
         },
         "name": "esm2_t30_150M_UR50D Std Dev",
         "showlegend": false,
         "type": "scatter",
         "x": [
          0,
          0.03333333333333333,
          0.06666666666666667,
          0.1,
          0.13333333333333333,
          0.16666666666666666,
          0.2,
          0.23333333333333334,
          0.26666666666666666,
          0.3,
          0.3333333333333333,
          0.36666666666666664,
          0.4,
          0.43333333333333335,
          0.4666666666666667,
          0.5,
          0.5333333333333333,
          0.5666666666666667,
          0.6,
          0.6333333333333333,
          0.6666666666666666,
          0.7,
          0.7333333333333333,
          0.7666666666666667,
          0.8,
          0.8333333333333334,
          0.8666666666666667,
          0.9,
          0.9333333333333333,
          0.9666666666666667,
          1,
          1,
          0.9666666666666667,
          0.9333333333333333,
          0.9,
          0.8666666666666667,
          0.8333333333333334,
          0.8,
          0.7666666666666667,
          0.7333333333333333,
          0.7,
          0.6666666666666666,
          0.6333333333333333,
          0.6,
          0.5666666666666667,
          0.5333333333333333,
          0.5,
          0.4666666666666667,
          0.43333333333333335,
          0.4,
          0.36666666666666664,
          0.3333333333333333,
          0.3,
          0.26666666666666666,
          0.23333333333333334,
          0.2,
          0.16666666666666666,
          0.13333333333333333,
          0.1,
          0.06666666666666667,
          0.03333333333333333,
          0
         ],
         "y": [
          0.40427696377904354,
          0.4857422568888557,
          0.5618125386812779,
          0.732364794181424,
          0.7704018657015332,
          0.8169315208888478,
          0.8179169277303606,
          0.8211743070519697,
          0.7869206668153802,
          0.7695302435126591,
          0.7658563432573487,
          0.7474773437698152,
          0.7365342842711021,
          0.7617598121169739,
          0.7289821084301026,
          0.7265523842113824,
          0.7176988885345503,
          0.7488008758989407,
          0.7591613646118338,
          0.7143255194494361,
          0.7296908588294924,
          0.6707622085285375,
          0.7222315937522042,
          0.7210250637648129,
          0.7316277132842006,
          0.7356429006259537,
          0.7376911399559601,
          0.7252396727406133,
          0.7761940283882154,
          0.7392130107660956,
          0.7290984580452761,
          0.781298737770764,
          0.7975897182047499,
          0.7943607048881518,
          0.7968684449987463,
          0.7634850583676075,
          0.773123432636172,
          0.7705912484314976,
          0.7471946138424056,
          0.7684018939492118,
          0.774273646446845,
          0.7523592421328287,
          0.7527156551212834,
          0.774679768505842,
          0.7690469402504531,
          0.7604847783304807,
          0.8026077577335029,
          0.8190826400160441,
          0.7776058768427837,
          0.8189233077393959,
          0.8253402599772348,
          0.8529946429054728,
          0.8479356896513016,
          0.811640699583749,
          0.8798320657177039,
          0.8391893128600527,
          0.8617399980727408,
          0.8610418732358447,
          0.8148786817325775,
          0.6192680921661081,
          0.5556120044498551,
          0.4049013289722687
         ]
        },
        {
         "line": {
          "color": "rgb(0, 128, 0)"
         },
         "mode": "lines",
         "name": "esm2_t33_650M_UR50D Mean",
         "type": "scatter",
         "x": [
          0,
          0.030303030303030304,
          0.06060606060606061,
          0.09090909090909091,
          0.12121212121212122,
          0.15151515151515152,
          0.18181818181818182,
          0.21212121212121213,
          0.24242424242424243,
          0.2727272727272727,
          0.30303030303030304,
          0.3333333333333333,
          0.36363636363636365,
          0.3939393939393939,
          0.42424242424242425,
          0.45454545454545453,
          0.48484848484848486,
          0.5151515151515151,
          0.5454545454545454,
          0.5757575757575758,
          0.6060606060606061,
          0.6363636363636364,
          0.6666666666666666,
          0.696969696969697,
          0.7272727272727273,
          0.7575757575757576,
          0.7878787878787878,
          0.8181818181818182,
          0.8484848484848485,
          0.8787878787878788,
          0.9090909090909091,
          0.9393939393939394,
          0.9696969696969697,
          1
         ],
         "y": [
          0.40422019734978676,
          0.4839878022670746,
          0.5436927676200867,
          0.7556050419807434,
          0.8224486509958903,
          0.8553870717684428,
          0.876677413781484,
          0.8573248187700907,
          0.8697352210680643,
          0.8149551550547282,
          0.8158896168073019,
          0.8097750345865885,
          0.7914655407269796,
          0.808178722858429,
          0.7825337648391724,
          0.822075088818868,
          0.8001225789388021,
          0.7674440145492554,
          0.7796205282211304,
          0.7718664209047953,
          0.7620023687680563,
          0.7817297379175822,
          0.7300115625063578,
          0.7883260448773702,
          0.779951016108195,
          0.7827173471450806,
          0.7490358153978983,
          0.7365436355272929,
          0.7849224011103312,
          0.7998532056808472,
          0.8010521332422892,
          0.8080901900927225,
          0.7348788579305013,
          0.7773934602737427
         ]
        },
        {
         "fill": "toself",
         "fillcolor": "rgba(0,128,0,0.1)",
         "line": {
          "color": "rgba(255,255,255,0)"
         },
         "name": "esm2_t33_650M_UR50D Std Dev",
         "showlegend": false,
         "type": "scatter",
         "x": [
          0,
          0.030303030303030304,
          0.06060606060606061,
          0.09090909090909091,
          0.12121212121212122,
          0.15151515151515152,
          0.18181818181818182,
          0.21212121212121213,
          0.24242424242424243,
          0.2727272727272727,
          0.30303030303030304,
          0.3333333333333333,
          0.36363636363636365,
          0.3939393939393939,
          0.42424242424242425,
          0.45454545454545453,
          0.48484848484848486,
          0.5151515151515151,
          0.5454545454545454,
          0.5757575757575758,
          0.6060606060606061,
          0.6363636363636364,
          0.6666666666666666,
          0.696969696969697,
          0.7272727272727273,
          0.7575757575757576,
          0.7878787878787878,
          0.8181818181818182,
          0.8484848484848485,
          0.8787878787878788,
          0.9090909090909091,
          0.9393939393939394,
          0.9696969696969697,
          1,
          1,
          0.9696969696969697,
          0.9393939393939394,
          0.9090909090909091,
          0.8787878787878788,
          0.8484848484848485,
          0.8181818181818182,
          0.7878787878787878,
          0.7575757575757576,
          0.7272727272727273,
          0.696969696969697,
          0.6666666666666666,
          0.6363636363636364,
          0.6060606060606061,
          0.5757575757575758,
          0.5454545454545454,
          0.5151515151515151,
          0.48484848484848486,
          0.45454545454545453,
          0.42424242424242425,
          0.3939393939393939,
          0.36363636363636365,
          0.3333333333333333,
          0.30303030303030304,
          0.2727272727272727,
          0.24242424242424243,
          0.21212121212121213,
          0.18181818181818182,
          0.15151515151515152,
          0.12121212121212122,
          0.09090909090909091,
          0.06060606060606061,
          0.030303030303030304,
          0
         ],
         "y": [
          0.40355964865717464,
          0.4609171331929859,
          0.5228073328962493,
          0.6646918676629594,
          0.7858741320375383,
          0.8238607970066764,
          0.8554655170115031,
          0.8197171229396736,
          0.8463211285719937,
          0.8021841019679999,
          0.788915896085544,
          0.7609007522677068,
          0.7808577802688126,
          0.7831551294149539,
          0.743260850720374,
          0.8136303179733959,
          0.7696191130165211,
          0.7373136179630175,
          0.7484947063365245,
          0.7298860563873919,
          0.6980767859268413,
          0.7659254833535991,
          0.676010666366964,
          0.7698322071289979,
          0.750658814961902,
          0.7696690483693627,
          0.7101840498843528,
          0.6727944212653618,
          0.7638699607769461,
          0.7887133090558552,
          0.7905077554307371,
          0.7983661596837323,
          0.6713272241392289,
          0.7518961438736439,
          0.8028907766738415,
          0.7984304917217738,
          0.8178142205017128,
          0.8115965110538412,
          0.8109931023058391,
          0.8059748414437162,
          0.8002928497892239,
          0.7878875809114438,
          0.7957656459207985,
          0.8092432172544879,
          0.8068198826257426,
          0.7840124586457515,
          0.7975339924815652,
          0.8259279516092712,
          0.8138467854221987,
          0.8107463501057363,
          0.7975744111354932,
          0.8306260448610832,
          0.8305198596643402,
          0.8218066789579708,
          0.833202316301904,
          0.8020733011851466,
          0.8586493169054702,
          0.8428633375290597,
          0.8277262081414564,
          0.893149313564135,
          0.8949325146005078,
          0.8978893105514649,
          0.8869133465302091,
          0.8590231699542422,
          0.8465182162985274,
          0.5645782023439241,
          0.5070584713411633,
          0.4048807460423989
         ]
        },
        {
         "line": {
          "color": "rgb(128, 0, 128)"
         },
         "mode": "lines",
         "name": "esm2_t6_8M_UR50D Mean",
         "type": "scatter",
         "x": [
          0,
          0.16666666666666666,
          0.3333333333333333,
          0.5,
          0.6666666666666666,
          0.8333333333333334,
          1
         ],
         "y": [
          0.40371453762054443,
          0.7121221337999616,
          0.7246168404817581,
          0.7377118865648905,
          0.7568436662356058,
          0.7733954787254333,
          0.7159115473429362
         ]
        },
        {
         "fill": "toself",
         "fillcolor": "rgba(128,0,128,0.1)",
         "line": {
          "color": "rgba(255,255,255,0)"
         },
         "name": "esm2_t6_8M_UR50D Std Dev",
         "showlegend": false,
         "type": "scatter",
         "x": [
          0,
          0.16666666666666666,
          0.3333333333333333,
          0.5,
          0.6666666666666666,
          0.8333333333333334,
          1,
          1,
          0.8333333333333334,
          0.6666666666666666,
          0.5,
          0.3333333333333333,
          0.16666666666666666,
          0
         ],
         "y": [
          0.4028435295868124,
          0.689193015591866,
          0.7000380765690558,
          0.6999957056470941,
          0.7358047032747225,
          0.7455831422588316,
          0.6907652920809499,
          0.7410578026049224,
          0.8012078151920351,
          0.7778826291964892,
          0.7754280674826869,
          0.7491956043944604,
          0.7350512520080572,
          0.40458554565427646
         ]
        }
       ],
       "layout": {
        "height": 400,
        "showlegend": true,
        "template": {
         "data": {
          "bar": [
           {
            "error_x": {
             "color": "#2a3f5f"
            },
            "error_y": {
             "color": "#2a3f5f"
            },
            "marker": {
             "line": {
              "color": "#E5ECF6",
              "width": 0.5
             },
             "pattern": {
              "fillmode": "overlay",
              "size": 10,
              "solidity": 0.2
             }
            },
            "type": "bar"
           }
          ],
          "barpolar": [
           {
            "marker": {
             "line": {
              "color": "#E5ECF6",
              "width": 0.5
             },
             "pattern": {
              "fillmode": "overlay",
              "size": 10,
              "solidity": 0.2
             }
            },
            "type": "barpolar"
           }
          ],
          "carpet": [
           {
            "aaxis": {
             "endlinecolor": "#2a3f5f",
             "gridcolor": "white",
             "linecolor": "white",
             "minorgridcolor": "white",
             "startlinecolor": "#2a3f5f"
            },
            "baxis": {
             "endlinecolor": "#2a3f5f",
             "gridcolor": "white",
             "linecolor": "white",
             "minorgridcolor": "white",
             "startlinecolor": "#2a3f5f"
            },
            "type": "carpet"
           }
          ],
          "choropleth": [
           {
            "colorbar": {
             "outlinewidth": 0,
             "ticks": ""
            },
            "type": "choropleth"
           }
          ],
          "contour": [
           {
            "colorbar": {
             "outlinewidth": 0,
             "ticks": ""
            },
            "colorscale": [
             [
              0,
              "#0d0887"
             ],
             [
              0.1111111111111111,
              "#46039f"
             ],
             [
              0.2222222222222222,
              "#7201a8"
             ],
             [
              0.3333333333333333,
              "#9c179e"
             ],
             [
              0.4444444444444444,
              "#bd3786"
             ],
             [
              0.5555555555555556,
              "#d8576b"
             ],
             [
              0.6666666666666666,
              "#ed7953"
             ],
             [
              0.7777777777777778,
              "#fb9f3a"
             ],
             [
              0.8888888888888888,
              "#fdca26"
             ],
             [
              1,
              "#f0f921"
             ]
            ],
            "type": "contour"
           }
          ],
          "contourcarpet": [
           {
            "colorbar": {
             "outlinewidth": 0,
             "ticks": ""
            },
            "type": "contourcarpet"
           }
          ],
          "heatmap": [
           {
            "colorbar": {
             "outlinewidth": 0,
             "ticks": ""
            },
            "colorscale": [
             [
              0,
              "#0d0887"
             ],
             [
              0.1111111111111111,
              "#46039f"
             ],
             [
              0.2222222222222222,
              "#7201a8"
             ],
             [
              0.3333333333333333,
              "#9c179e"
             ],
             [
              0.4444444444444444,
              "#bd3786"
             ],
             [
              0.5555555555555556,
              "#d8576b"
             ],
             [
              0.6666666666666666,
              "#ed7953"
             ],
             [
              0.7777777777777778,
              "#fb9f3a"
             ],
             [
              0.8888888888888888,
              "#fdca26"
             ],
             [
              1,
              "#f0f921"
             ]
            ],
            "type": "heatmap"
           }
          ],
          "heatmapgl": [
           {
            "colorbar": {
             "outlinewidth": 0,
             "ticks": ""
            },
            "colorscale": [
             [
              0,
              "#0d0887"
             ],
             [
              0.1111111111111111,
              "#46039f"
             ],
             [
              0.2222222222222222,
              "#7201a8"
             ],
             [
              0.3333333333333333,
              "#9c179e"
             ],
             [
              0.4444444444444444,
              "#bd3786"
             ],
             [
              0.5555555555555556,
              "#d8576b"
             ],
             [
              0.6666666666666666,
              "#ed7953"
             ],
             [
              0.7777777777777778,
              "#fb9f3a"
             ],
             [
              0.8888888888888888,
              "#fdca26"
             ],
             [
              1,
              "#f0f921"
             ]
            ],
            "type": "heatmapgl"
           }
          ],
          "histogram": [
           {
            "marker": {
             "pattern": {
              "fillmode": "overlay",
              "size": 10,
              "solidity": 0.2
             }
            },
            "type": "histogram"
           }
          ],
          "histogram2d": [
           {
            "colorbar": {
             "outlinewidth": 0,
             "ticks": ""
            },
            "colorscale": [
             [
              0,
              "#0d0887"
             ],
             [
              0.1111111111111111,
              "#46039f"
             ],
             [
              0.2222222222222222,
              "#7201a8"
             ],
             [
              0.3333333333333333,
              "#9c179e"
             ],
             [
              0.4444444444444444,
              "#bd3786"
             ],
             [
              0.5555555555555556,
              "#d8576b"
             ],
             [
              0.6666666666666666,
              "#ed7953"
             ],
             [
              0.7777777777777778,
              "#fb9f3a"
             ],
             [
              0.8888888888888888,
              "#fdca26"
             ],
             [
              1,
              "#f0f921"
             ]
            ],
            "type": "histogram2d"
           }
          ],
          "histogram2dcontour": [
           {
            "colorbar": {
             "outlinewidth": 0,
             "ticks": ""
            },
            "colorscale": [
             [
              0,
              "#0d0887"
             ],
             [
              0.1111111111111111,
              "#46039f"
             ],
             [
              0.2222222222222222,
              "#7201a8"
             ],
             [
              0.3333333333333333,
              "#9c179e"
             ],
             [
              0.4444444444444444,
              "#bd3786"
             ],
             [
              0.5555555555555556,
              "#d8576b"
             ],
             [
              0.6666666666666666,
              "#ed7953"
             ],
             [
              0.7777777777777778,
              "#fb9f3a"
             ],
             [
              0.8888888888888888,
              "#fdca26"
             ],
             [
              1,
              "#f0f921"
             ]
            ],
            "type": "histogram2dcontour"
           }
          ],
          "mesh3d": [
           {
            "colorbar": {
             "outlinewidth": 0,
             "ticks": ""
            },
            "type": "mesh3d"
           }
          ],
          "parcoords": [
           {
            "line": {
             "colorbar": {
              "outlinewidth": 0,
              "ticks": ""
             }
            },
            "type": "parcoords"
           }
          ],
          "pie": [
           {
            "automargin": true,
            "type": "pie"
           }
          ],
          "scatter": [
           {
            "fillpattern": {
             "fillmode": "overlay",
             "size": 10,
             "solidity": 0.2
            },
            "type": "scatter"
           }
          ],
          "scatter3d": [
           {
            "line": {
             "colorbar": {
              "outlinewidth": 0,
              "ticks": ""
             }
            },
            "marker": {
             "colorbar": {
              "outlinewidth": 0,
              "ticks": ""
             }
            },
            "type": "scatter3d"
           }
          ],
          "scattercarpet": [
           {
            "marker": {
             "colorbar": {
              "outlinewidth": 0,
              "ticks": ""
             }
            },
            "type": "scattercarpet"
           }
          ],
          "scattergeo": [
           {
            "marker": {
             "colorbar": {
              "outlinewidth": 0,
              "ticks": ""
             }
            },
            "type": "scattergeo"
           }
          ],
          "scattergl": [
           {
            "marker": {
             "colorbar": {
              "outlinewidth": 0,
              "ticks": ""
             }
            },
            "type": "scattergl"
           }
          ],
          "scattermapbox": [
           {
            "marker": {
             "colorbar": {
              "outlinewidth": 0,
              "ticks": ""
             }
            },
            "type": "scattermapbox"
           }
          ],
          "scatterpolar": [
           {
            "marker": {
             "colorbar": {
              "outlinewidth": 0,
              "ticks": ""
             }
            },
            "type": "scatterpolar"
           }
          ],
          "scatterpolargl": [
           {
            "marker": {
             "colorbar": {
              "outlinewidth": 0,
              "ticks": ""
             }
            },
            "type": "scatterpolargl"
           }
          ],
          "scatterternary": [
           {
            "marker": {
             "colorbar": {
              "outlinewidth": 0,
              "ticks": ""
             }
            },
            "type": "scatterternary"
           }
          ],
          "surface": [
           {
            "colorbar": {
             "outlinewidth": 0,
             "ticks": ""
            },
            "colorscale": [
             [
              0,
              "#0d0887"
             ],
             [
              0.1111111111111111,
              "#46039f"
             ],
             [
              0.2222222222222222,
              "#7201a8"
             ],
             [
              0.3333333333333333,
              "#9c179e"
             ],
             [
              0.4444444444444444,
              "#bd3786"
             ],
             [
              0.5555555555555556,
              "#d8576b"
             ],
             [
              0.6666666666666666,
              "#ed7953"
             ],
             [
              0.7777777777777778,
              "#fb9f3a"
             ],
             [
              0.8888888888888888,
              "#fdca26"
             ],
             [
              1,
              "#f0f921"
             ]
            ],
            "type": "surface"
           }
          ],
          "table": [
           {
            "cells": {
             "fill": {
              "color": "#EBF0F8"
             },
             "line": {
              "color": "white"
             }
            },
            "header": {
             "fill": {
              "color": "#C8D4E3"
             },
             "line": {
              "color": "white"
             }
            },
            "type": "table"
           }
          ]
         },
         "layout": {
          "annotationdefaults": {
           "arrowcolor": "#2a3f5f",
           "arrowhead": 0,
           "arrowwidth": 1
          },
          "autotypenumbers": "strict",
          "coloraxis": {
           "colorbar": {
            "outlinewidth": 0,
            "ticks": ""
           }
          },
          "colorscale": {
           "diverging": [
            [
             0,
             "#8e0152"
            ],
            [
             0.1,
             "#c51b7d"
            ],
            [
             0.2,
             "#de77ae"
            ],
            [
             0.3,
             "#f1b6da"
            ],
            [
             0.4,
             "#fde0ef"
            ],
            [
             0.5,
             "#f7f7f7"
            ],
            [
             0.6,
             "#e6f5d0"
            ],
            [
             0.7,
             "#b8e186"
            ],
            [
             0.8,
             "#7fbc41"
            ],
            [
             0.9,
             "#4d9221"
            ],
            [
             1,
             "#276419"
            ]
           ],
           "sequential": [
            [
             0,
             "#0d0887"
            ],
            [
             0.1111111111111111,
             "#46039f"
            ],
            [
             0.2222222222222222,
             "#7201a8"
            ],
            [
             0.3333333333333333,
             "#9c179e"
            ],
            [
             0.4444444444444444,
             "#bd3786"
            ],
            [
             0.5555555555555556,
             "#d8576b"
            ],
            [
             0.6666666666666666,
             "#ed7953"
            ],
            [
             0.7777777777777778,
             "#fb9f3a"
            ],
            [
             0.8888888888888888,
             "#fdca26"
            ],
            [
             1,
             "#f0f921"
            ]
           ],
           "sequentialminus": [
            [
             0,
             "#0d0887"
            ],
            [
             0.1111111111111111,
             "#46039f"
            ],
            [
             0.2222222222222222,
             "#7201a8"
            ],
            [
             0.3333333333333333,
             "#9c179e"
            ],
            [
             0.4444444444444444,
             "#bd3786"
            ],
            [
             0.5555555555555556,
             "#d8576b"
            ],
            [
             0.6666666666666666,
             "#ed7953"
            ],
            [
             0.7777777777777778,
             "#fb9f3a"
            ],
            [
             0.8888888888888888,
             "#fdca26"
            ],
            [
             1,
             "#f0f921"
            ]
           ]
          },
          "colorway": [
           "#636efa",
           "#EF553B",
           "#00cc96",
           "#ab63fa",
           "#FFA15A",
           "#19d3f3",
           "#FF6692",
           "#B6E880",
           "#FF97FF",
           "#FECB52"
          ],
          "font": {
           "color": "#2a3f5f"
          },
          "geo": {
           "bgcolor": "white",
           "lakecolor": "white",
           "landcolor": "#E5ECF6",
           "showlakes": true,
           "showland": true,
           "subunitcolor": "white"
          },
          "hoverlabel": {
           "align": "left"
          },
          "hovermode": "closest",
          "mapbox": {
           "style": "light"
          },
          "paper_bgcolor": "white",
          "plot_bgcolor": "#E5ECF6",
          "polar": {
           "angularaxis": {
            "gridcolor": "white",
            "linecolor": "white",
            "ticks": ""
           },
           "bgcolor": "#E5ECF6",
           "radialaxis": {
            "gridcolor": "white",
            "linecolor": "white",
            "ticks": ""
           }
          },
          "scene": {
           "xaxis": {
            "backgroundcolor": "#E5ECF6",
            "gridcolor": "white",
            "gridwidth": 2,
            "linecolor": "white",
            "showbackground": true,
            "ticks": "",
            "zerolinecolor": "white"
           },
           "yaxis": {
            "backgroundcolor": "#E5ECF6",
            "gridcolor": "white",
            "gridwidth": 2,
            "linecolor": "white",
            "showbackground": true,
            "ticks": "",
            "zerolinecolor": "white"
           },
           "zaxis": {
            "backgroundcolor": "#E5ECF6",
            "gridcolor": "white",
            "gridwidth": 2,
            "linecolor": "white",
            "showbackground": true,
            "ticks": "",
            "zerolinecolor": "white"
           }
          },
          "shapedefaults": {
           "line": {
            "color": "#2a3f5f"
           }
          },
          "ternary": {
           "aaxis": {
            "gridcolor": "white",
            "linecolor": "white",
            "ticks": ""
           },
           "baxis": {
            "gridcolor": "white",
            "linecolor": "white",
            "ticks": ""
           },
           "bgcolor": "#E5ECF6",
           "caxis": {
            "gridcolor": "white",
            "linecolor": "white",
            "ticks": ""
           }
          },
          "title": {
           "x": 0.05
          },
          "xaxis": {
           "automargin": true,
           "gridcolor": "white",
           "linecolor": "white",
           "ticks": "",
           "title": {
            "standoff": 15
           },
           "zerolinecolor": "white",
           "zerolinewidth": 2
          },
          "yaxis": {
           "automargin": true,
           "gridcolor": "white",
           "linecolor": "white",
           "ticks": "",
           "title": {
            "standoff": 15
           },
           "zerolinecolor": "white",
           "zerolinewidth": 2
          }
         }
        },
        "title": {
         "text": "Layer Progress vs. Pearson Value"
        },
        "width": 700,
        "xaxis": {
         "autorange": true,
         "range": [
          -0.06784660766961652,
          1.0678466076696165
         ],
         "title": {
          "text": "Layer Progress"
         },
         "type": "linear"
        },
        "yaxis": {
         "autorange": true,
         "range": [
          0.3652531807104746,
          0.9259227910694118
         ],
         "title": {
          "text": "Pearson Value"
         },
         "type": "linear"
        }
       }
      },
      "image/png": "[encoded data removed]",
      "text/html": [
       "<div>                            <div id=\"60ec040c-c452-4d22-90f3-2e1ac5c7b3fb\" class=\"plotly-graph-div\" style=\"height:400px; width:700px;\"></div>            <script type=\"text/javascript\">                require([\"plotly\"], function(Plotly) {                    window.PLOTLYENV=window.PLOTLYENV || {};                                    if (document.getElementById(\"60ec040c-c452-4d22-90f3-2e1ac5c7b3fb\")) {                    Plotly.newPlot(                        \"60ec040c-c452-4d22-90f3-2e1ac5c7b3fb\",                        [{\"line\":{\"color\":\"rgb(0, 0, 255)\"},\"mode\":\"lines\",\"name\":\"esm2_t12_35M_UR50D Mean\",\"x\":[0.0,0.08333333333333333,0.16666666666666666,0.25,0.3333333333333333,0.4166666666666667,0.5,0.5833333333333334,0.6666666666666666,0.75,0.8333333333333334,0.9166666666666666,1.0],\"y\":[0.40436096116900444,0.6120080873370171,0.7544912397861481,0.7873202115297318,0.7853710055351257,0.7936003804206848,0.786479651927948,0.7763309478759766,0.7895817955334982,0.7581300934155782,0.7762137850125631,0.7756897211074829,0.7633453210194906],\"type\":\"scatter\"},{\"fill\":\"toself\",\"fillcolor\":\"rgba(0,0,255,0.1)\",\"line\":{\"color\":\"rgba(255,255,255,0)\"},\"name\":\"esm2_t12_35M_UR50D Std Dev\",\"showlegend\":false,\"x\":[0.0,0.08333333333333333,0.16666666666666666,0.25,0.3333333333333333,0.4166666666666667,0.5,0.5833333333333334,0.6666666666666666,0.75,0.8333333333333334,0.9166666666666666,1.0,1.0,0.9166666666666666,0.8333333333333334,0.75,0.6666666666666666,0.5833333333333334,0.5,0.4166666666666667,0.3333333333333333,0.25,0.16666666666666666,0.08333333333333333,0.0],\"y\":[0.40366625064689693,0.5924611797264395,0.7191994235290603,0.7682618990751319,0.7661404711416474,0.7574899536721827,0.766015963632823,0.7411669420149778,0.7661156777409129,0.7388669264064952,0.7523528961397892,0.7557123129439359,0.7364138542621046,0.7902767877768766,0.7956671292710299,0.800074673885337,0.7773932604246613,0.8130479133260834,0.8114949537369753,0.806943340223073,0.8297108071691869,0.8046015399286041,0.8063785239843316,0.7897830560432358,0.6315549949475946,0.40505567169111195],\"type\":\"scatter\"},{\"line\":{\"color\":\"rgb(255, 0, 0)\"},\"mode\":\"lines\",\"name\":\"esm2_t30_150M_UR50D Mean\",\"x\":[0.0,0.03333333333333333,0.06666666666666667,0.1,0.13333333333333333,0.16666666666666666,0.2,0.23333333333333334,0.26666666666666666,0.3,0.3333333333333333,0.36666666666666664,0.4,0.43333333333333335,0.4666666666666667,0.5,0.5333333333333333,0.5666666666666667,0.6,0.6333333333333333,0.6666666666666666,0.7,0.7333333333333333,0.7666666666666667,0.8,0.8333333333333334,0.8666666666666667,0.9,0.9333333333333333,0.9666666666666667,1.0],\"y\":[0.40458914637565613,0.5206771306693554,0.590540315423693,0.7736217379570007,0.815721869468689,0.8393357594807943,0.8285531202952067,0.8505031863848368,0.7992806831995646,0.8087329665819804,0.8094254930814108,0.786408801873525,0.777728796005249,0.7696828444798788,0.7740323742230734,0.7645800709724426,0.7390918334325155,0.7589239080746969,0.7669205665588379,0.7335205872853597,0.7410250504811605,0.7225179274876913,0.745316743850708,0.7341098388036092,0.7511094808578491,0.7543831666310629,0.7505880991617838,0.7610540588696798,0.7852773666381836,0.7684013644854227,0.75519859790802],\"type\":\"scatter\"},{\"fill\":\"toself\",\"fillcolor\":\"rgba(255,0,0,0.1)\",\"line\":{\"color\":\"rgba(255,255,255,0)\"},\"name\":\"esm2_t30_150M_UR50D Std Dev\",\"showlegend\":false,\"x\":[0.0,0.03333333333333333,0.06666666666666667,0.1,0.13333333333333333,0.16666666666666666,0.2,0.23333333333333334,0.26666666666666666,0.3,0.3333333333333333,0.36666666666666664,0.4,0.43333333333333335,0.4666666666666667,0.5,0.5333333333333333,0.5666666666666667,0.6,0.6333333333333333,0.6666666666666666,0.7,0.7333333333333333,0.7666666666666667,0.8,0.8333333333333334,0.8666666666666667,0.9,0.9333333333333333,0.9666666666666667,1.0,1.0,0.9666666666666667,0.9333333333333333,0.9,0.8666666666666667,0.8333333333333334,0.8,0.7666666666666667,0.7333333333333333,0.7,0.6666666666666666,0.6333333333333333,0.6,0.5666666666666667,0.5333333333333333,0.5,0.4666666666666667,0.43333333333333335,0.4,0.36666666666666664,0.3333333333333333,0.3,0.26666666666666666,0.23333333333333334,0.2,0.16666666666666666,0.13333333333333333,0.1,0.06666666666666667,0.03333333333333333,0.0],\"y\":[0.40427696377904354,0.4857422568888557,0.5618125386812779,0.732364794181424,0.7704018657015332,0.8169315208888478,0.8179169277303606,0.8211743070519697,0.7869206668153802,0.7695302435126591,0.7658563432573487,0.7474773437698152,0.7365342842711021,0.7617598121169739,0.7289821084301026,0.7265523842113824,0.7176988885345503,0.7488008758989407,0.7591613646118338,0.7143255194494361,0.7296908588294924,0.6707622085285375,0.7222315937522042,0.7210250637648129,0.7316277132842006,0.7356429006259537,0.7376911399559601,0.7252396727406133,0.7761940283882154,0.7392130107660956,0.7290984580452761,0.781298737770764,0.7975897182047499,0.7943607048881518,0.7968684449987463,0.7634850583676075,0.773123432636172,0.7705912484314976,0.7471946138424056,0.7684018939492118,0.774273646446845,0.7523592421328287,0.7527156551212834,0.774679768505842,0.7690469402504531,0.7604847783304807,0.8026077577335029,0.8190826400160441,0.7776058768427837,0.8189233077393959,0.8253402599772348,0.8529946429054728,0.8479356896513016,0.811640699583749,0.8798320657177039,0.8391893128600527,0.8617399980727408,0.8610418732358447,0.8148786817325775,0.6192680921661081,0.5556120044498551,0.4049013289722687],\"type\":\"scatter\"},{\"line\":{\"color\":\"rgb(0, 128, 0)\"},\"mode\":\"lines\",\"name\":\"esm2_t33_650M_UR50D Mean\",\"x\":[0.0,0.030303030303030304,0.06060606060606061,0.09090909090909091,0.12121212121212122,0.15151515151515152,0.18181818181818182,0.21212121212121213,0.24242424242424243,0.2727272727272727,0.30303030303030304,0.3333333333333333,0.36363636363636365,0.3939393939393939,0.42424242424242425,0.45454545454545453,0.48484848484848486,0.5151515151515151,0.5454545454545454,0.5757575757575758,0.6060606060606061,0.6363636363636364,0.6666666666666666,0.696969696969697,0.7272727272727273,0.7575757575757576,0.7878787878787878,0.8181818181818182,0.8484848484848485,0.8787878787878788,0.9090909090909091,0.9393939393939394,0.9696969696969697,1.0],\"y\":[0.40422019734978676,0.4839878022670746,0.5436927676200867,0.7556050419807434,0.8224486509958903,0.8553870717684428,0.876677413781484,0.8573248187700907,0.8697352210680643,0.8149551550547282,0.8158896168073019,0.8097750345865885,0.7914655407269796,0.808178722858429,0.7825337648391724,0.822075088818868,0.8001225789388021,0.7674440145492554,0.7796205282211304,0.7718664209047953,0.7620023687680563,0.7817297379175822,0.7300115625063578,0.7883260448773702,0.779951016108195,0.7827173471450806,0.7490358153978983,0.7365436355272929,0.7849224011103312,0.7998532056808472,0.8010521332422892,0.8080901900927225,0.7348788579305013,0.7773934602737427],\"type\":\"scatter\"},{\"fill\":\"toself\",\"fillcolor\":\"rgba(0,128,0,0.1)\",\"line\":{\"color\":\"rgba(255,255,255,0)\"},\"name\":\"esm2_t33_650M_UR50D Std Dev\",\"showlegend\":false,\"x\":[0.0,0.030303030303030304,0.06060606060606061,0.09090909090909091,0.12121212121212122,0.15151515151515152,0.18181818181818182,0.21212121212121213,0.24242424242424243,0.2727272727272727,0.30303030303030304,0.3333333333333333,0.36363636363636365,0.3939393939393939,0.42424242424242425,0.45454545454545453,0.48484848484848486,0.5151515151515151,0.5454545454545454,0.5757575757575758,0.6060606060606061,0.6363636363636364,0.6666666666666666,0.696969696969697,0.7272727272727273,0.7575757575757576,0.7878787878787878,0.8181818181818182,0.8484848484848485,0.8787878787878788,0.9090909090909091,0.9393939393939394,0.9696969696969697,1.0,1.0,0.9696969696969697,0.9393939393939394,0.9090909090909091,0.8787878787878788,0.8484848484848485,0.8181818181818182,0.7878787878787878,0.7575757575757576,0.7272727272727273,0.696969696969697,0.6666666666666666,0.6363636363636364,0.6060606060606061,0.5757575757575758,0.5454545454545454,0.5151515151515151,0.48484848484848486,0.45454545454545453,0.42424242424242425,0.3939393939393939,0.36363636363636365,0.3333333333333333,0.30303030303030304,0.2727272727272727,0.24242424242424243,0.21212121212121213,0.18181818181818182,0.15151515151515152,0.12121212121212122,0.09090909090909091,0.06060606060606061,0.030303030303030304,0.0],\"y\":[0.40355964865717464,0.4609171331929859,0.5228073328962493,0.6646918676629594,0.7858741320375383,0.8238607970066764,0.8554655170115031,0.8197171229396736,0.8463211285719937,0.8021841019679999,0.788915896085544,0.7609007522677068,0.7808577802688126,0.7831551294149539,0.743260850720374,0.8136303179733959,0.7696191130165211,0.7373136179630175,0.7484947063365245,0.7298860563873919,0.6980767859268413,0.7659254833535991,0.676010666366964,0.7698322071289979,0.750658814961902,0.7696690483693627,0.7101840498843528,0.6727944212653618,0.7638699607769461,0.7887133090558552,0.7905077554307371,0.7983661596837323,0.6713272241392289,0.7518961438736439,0.8028907766738415,0.7984304917217738,0.8178142205017128,0.8115965110538412,0.8109931023058391,0.8059748414437162,0.8002928497892239,0.7878875809114438,0.7957656459207985,0.8092432172544879,0.8068198826257426,0.7840124586457515,0.7975339924815652,0.8259279516092712,0.8138467854221987,0.8107463501057363,0.7975744111354932,0.8306260448610832,0.8305198596643402,0.8218066789579708,0.833202316301904,0.8020733011851466,0.8586493169054702,0.8428633375290597,0.8277262081414564,0.893149313564135,0.8949325146005078,0.8978893105514649,0.8869133465302091,0.8590231699542422,0.8465182162985274,0.5645782023439241,0.5070584713411633,0.4048807460423989],\"type\":\"scatter\"},{\"line\":{\"color\":\"rgb(128, 0, 128)\"},\"mode\":\"lines\",\"name\":\"esm2_t6_8M_UR50D Mean\",\"x\":[0.0,0.16666666666666666,0.3333333333333333,0.5,0.6666666666666666,0.8333333333333334,1.0],\"y\":[0.40371453762054443,0.7121221337999616,0.7246168404817581,0.7377118865648905,0.7568436662356058,0.7733954787254333,0.7159115473429362],\"type\":\"scatter\"},{\"fill\":\"toself\",\"fillcolor\":\"rgba(128,0,128,0.1)\",\"line\":{\"color\":\"rgba(255,255,255,0)\"},\"name\":\"esm2_t6_8M_UR50D Std Dev\",\"showlegend\":false,\"x\":[0.0,0.16666666666666666,0.3333333333333333,0.5,0.6666666666666666,0.8333333333333334,1.0,1.0,0.8333333333333334,0.6666666666666666,0.5,0.3333333333333333,0.16666666666666666,0.0],\"y\":[0.4028435295868124,0.689193015591866,0.7000380765690558,0.6999957056470941,0.7358047032747225,0.7455831422588316,0.6907652920809499,0.7410578026049224,0.8012078151920351,0.7778826291964892,0.7754280674826869,0.7491956043944604,0.7350512520080572,0.40458554565427646],\"type\":\"scatter\"}],                        {\"template\":{\"data\":{\"histogram2dcontour\":[{\"type\":\"histogram2dcontour\",\"colorbar\":{\"outlinewidth\":0,\"ticks\":\"\"},\"colorscale\":[[0.0,\"#0d0887\"],[0.1111111111111111,\"#46039f\"],[0.2222222222222222,\"#7201a8\"],[0.3333333333333333,\"#9c179e\"],[0.4444444444444444,\"#bd3786\"],[0.5555555555555556,\"#d8576b\"],[0.6666666666666666,\"#ed7953\"],[0.7777777777777778,\"#fb9f3a\"],[0.8888888888888888,\"#fdca26\"],[1.0,\"#f0f921\"]]}],\"choropleth\":[{\"type\":\"choropleth\",\"colorbar\":{\"outlinewidth\":0,\"ticks\":\"\"}}],\"histogram2d\":[{\"type\":\"histogram2d\",\"colorbar\":{\"outlinewidth\":0,\"ticks\":\"\"},\"colorscale\":[[0.0,\"#0d0887\"],[0.1111111111111111,\"#46039f\"],[0.2222222222222222,\"#7201a8\"],[0.3333333333333333,\"#9c179e\"],[0.4444444444444444,\"#bd3786\"],[0.5555555555555556,\"#d8576b\"],[0.6666666666666666,\"#ed7953\"],[0.7777777777777778,\"#fb9f3a\"],[0.8888888888888888,\"#fdca26\"],[1.0,\"#f0f921\"]]}],\"heatmap\":[{\"type\":\"heatmap\",\"colorbar\":{\"outlinewidth\":0,\"ticks\":\"\"},\"colorscale\":[[0.0,\"#0d0887\"],[0.1111111111111111,\"#46039f\"],[0.2222222222222222,\"#7201a8\"],[0.3333333333333333,\"#9c179e\"],[0.4444444444444444,\"#bd3786\"],[0.5555555555555556,\"#d8576b\"],[0.6666666666666666,\"#ed7953\"],[0.7777777777777778,\"#fb9f3a\"],[0.8888888888888888,\"#fdca26\"],[1.0,\"#f0f921\"]]}],\"heatmapgl\":[{\"type\":\"heatmapgl\",\"colorbar\":{\"outlinewidth\":0,\"ticks\":\"\"},\"colorscale\":[[0.0,\"#0d0887\"],[0.1111111111111111,\"#46039f\"],[0.2222222222222222,\"#7201a8\"],[0.3333333333333333,\"#9c179e\"],[0.4444444444444444,\"#bd3786\"],[0.5555555555555556,\"#d8576b\"],[0.6666666666666666,\"#ed7953\"],[0.7777777777777778,\"#fb9f3a\"],[0.8888888888888888,\"#fdca26\"],[1.0,\"#f0f921\"]]}],\"contourcarpet\":[{\"type\":\"contourcarpet\",\"colorbar\":{\"outlinewidth\":0,\"ticks\":\"\"}}],\"contour\":[{\"type\":\"contour\",\"colorbar\":{\"outlinewidth\":0,\"ticks\":\"\"},\"colorscale\":[[0.0,\"#0d0887\"],[0.1111111111111111,\"#46039f\"],[0.2222222222222222,\"#7201a8\"],[0.3333333333333333,\"#9c179e\"],[0.4444444444444444,\"#bd3786\"],[0.5555555555555556,\"#d8576b\"],[0.6666666666666666,\"#ed7953\"],[0.7777777777777778,\"#fb9f3a\"],[0.8888888888888888,\"#fdca26\"],[1.0,\"#f0f921\"]]}],\"surface\":[{\"type\":\"surface\",\"colorbar\":{\"outlinewidth\":0,\"ticks\":\"\"},\"colorscale\":[[0.0,\"#0d0887\"],[0.1111111111111111,\"#46039f\"],[0.2222222222222222,\"#7201a8\"],[0.3333333333333333,\"#9c179e\"],[0.4444444444444444,\"#bd3786\"],[0.5555555555555556,\"#d8576b\"],[0.6666666666666666,\"#ed7953\"],[0.7777777777777778,\"#fb9f3a\"],[0.8888888888888888,\"#fdca26\"],[1.0,\"#f0f921\"]]}],\"mesh3d\":[{\"type\":\"mesh3d\",\"colorbar\":{\"outlinewidth\":0,\"ticks\":\"\"}}],\"scatter\":[{\"fillpattern\":{\"fillmode\":\"overlay\",\"size\":10,\"solidity\":0.2},\"type\":\"scatter\"}],\"parcoords\":[{\"type\":\"parcoords\",\"line\":{\"colorbar\":{\"outlinewidth\":0,\"ticks\":\"\"}}}],\"scatterpolargl\":[{\"type\":\"scatterpolargl\",\"marker\":{\"colorbar\":{\"outlinewidth\":0,\"ticks\":\"\"}}}],\"bar\":[{\"error_x\":{\"color\":\"#2a3f5f\"},\"error_y\":{\"color\":\"#2a3f5f\"},\"marker\":{\"line\":{\"color\":\"#E5ECF6\",\"width\":0.5},\"pattern\":{\"fillmode\":\"overlay\",\"size\":10,\"solidity\":0.2}},\"type\":\"bar\"}],\"scattergeo\":[{\"type\":\"scattergeo\",\"marker\":{\"colorbar\":{\"outlinewidth\":0,\"ticks\":\"\"}}}],\"scatterpolar\":[{\"type\":\"scatterpolar\",\"marker\":{\"colorbar\":{\"outlinewidth\":0,\"ticks\":\"\"}}}],\"histogram\":[{\"marker\":{\"pattern\":{\"fillmode\":\"overlay\",\"size\":10,\"solidity\":0.2}},\"type\":\"histogram\"}],\"scattergl\":[{\"type\":\"scattergl\",\"marker\":{\"colorbar\":{\"outlinewidth\":0,\"ticks\":\"\"}}}],\"scatter3d\":[{\"type\":\"scatter3d\",\"line\":{\"colorbar\":{\"outlinewidth\":0,\"ticks\":\"\"}},\"marker\":{\"colorbar\":{\"outlinewidth\":0,\"ticks\":\"\"}}}],\"scattermapbox\":[{\"type\":\"scattermapbox\",\"marker\":{\"colorbar\":{\"outlinewidth\":0,\"ticks\":\"\"}}}],\"scatterternary\":[{\"type\":\"scatterternary\",\"marker\":{\"colorbar\":{\"outlinewidth\":0,\"ticks\":\"\"}}}],\"scattercarpet\":[{\"type\":\"scattercarpet\",\"marker\":{\"colorbar\":{\"outlinewidth\":0,\"ticks\":\"\"}}}],\"carpet\":[{\"aaxis\":{\"endlinecolor\":\"#2a3f5f\",\"gridcolor\":\"white\",\"linecolor\":\"white\",\"minorgridcolor\":\"white\",\"startlinecolor\":\"#2a3f5f\"},\"baxis\":{\"endlinecolor\":\"#2a3f5f\",\"gridcolor\":\"white\",\"linecolor\":\"white\",\"minorgridcolor\":\"white\",\"startlinecolor\":\"#2a3f5f\"},\"type\":\"carpet\"}],\"table\":[{\"cells\":{\"fill\":{\"color\":\"#EBF0F8\"},\"line\":{\"color\":\"white\"}},\"header\":{\"fill\":{\"color\":\"#C8D4E3\"},\"line\":{\"color\":\"white\"}},\"type\":\"table\"}],\"barpolar\":[{\"marker\":{\"line\":{\"color\":\"#E5ECF6\",\"width\":0.5},\"pattern\":{\"fillmode\":\"overlay\",\"size\":10,\"solidity\":0.2}},\"type\":\"barpolar\"}],\"pie\":[{\"automargin\":true,\"type\":\"pie\"}]},\"layout\":{\"autotypenumbers\":\"strict\",\"colorway\":[\"#636efa\",\"#EF553B\",\"#00cc96\",\"#ab63fa\",\"#FFA15A\",\"#19d3f3\",\"#FF6692\",\"#B6E880\",\"#FF97FF\",\"#FECB52\"],\"font\":{\"color\":\"#2a3f5f\"},\"hovermode\":\"closest\",\"hoverlabel\":{\"align\":\"left\"},\"paper_bgcolor\":\"white\",\"plot_bgcolor\":\"#E5ECF6\",\"polar\":{\"bgcolor\":\"#E5ECF6\",\"angularaxis\":{\"gridcolor\":\"white\",\"linecolor\":\"white\",\"ticks\":\"\"},\"radialaxis\":{\"gridcolor\":\"white\",\"linecolor\":\"white\",\"ticks\":\"\"}},\"ternary\":{\"bgcolor\":\"#E5ECF6\",\"aaxis\":{\"gridcolor\":\"white\",\"linecolor\":\"white\",\"ticks\":\"\"},\"baxis\":{\"gridcolor\":\"white\",\"linecolor\":\"white\",\"ticks\":\"\"},\"caxis\":{\"gridcolor\":\"white\",\"linecolor\":\"white\",\"ticks\":\"\"}},\"coloraxis\":{\"colorbar\":{\"outlinewidth\":0,\"ticks\":\"\"}},\"colorscale\":{\"sequential\":[[0.0,\"#0d0887\"],[0.1111111111111111,\"#46039f\"],[0.2222222222222222,\"#7201a8\"],[0.3333333333333333,\"#9c179e\"],[0.4444444444444444,\"#bd3786\"],[0.5555555555555556,\"#d8576b\"],[0.6666666666666666,\"#ed7953\"],[0.7777777777777778,\"#fb9f3a\"],[0.8888888888888888,\"#fdca26\"],[1.0,\"#f0f921\"]],\"sequentialminus\":[[0.0,\"#0d0887\"],[0.1111111111111111,\"#46039f\"],[0.2222222222222222,\"#7201a8\"],[0.3333333333333333,\"#9c179e\"],[0.4444444444444444,\"#bd3786\"],[0.5555555555555556,\"#d8576b\"],[0.6666666666666666,\"#ed7953\"],[0.7777777777777778,\"#fb9f3a\"],[0.8888888888888888,\"#fdca26\"],[1.0,\"#f0f921\"]],\"diverging\":[[0,\"#8e0152\"],[0.1,\"#c51b7d\"],[0.2,\"#de77ae\"],[0.3,\"#f1b6da\"],[0.4,\"#fde0ef\"],[0.5,\"#f7f7f7\"],[0.6,\"#e6f5d0\"],[0.7,\"#b8e186\"],[0.8,\"#7fbc41\"],[0.9,\"#4d9221\"],[1,\"#276419\"]]},\"xaxis\":{\"gridcolor\":\"white\",\"linecolor\":\"white\",\"ticks\":\"\",\"title\":{\"standoff\":15},\"zerolinecolor\":\"white\",\"automargin\":true,\"zerolinewidth\":2},\"yaxis\":{\"gridcolor\":\"white\",\"linecolor\":\"white\",\"ticks\":\"\",\"title\":{\"standoff\":15},\"zerolinecolor\":\"white\",\"automargin\":true,\"zerolinewidth\":2},\"scene\":{\"xaxis\":{\"backgroundcolor\":\"#E5ECF6\",\"gridcolor\":\"white\",\"linecolor\":\"white\",\"showbackground\":true,\"ticks\":\"\",\"zerolinecolor\":\"white\",\"gridwidth\":2},\"yaxis\":{\"backgroundcolor\":\"#E5ECF6\",\"gridcolor\":\"white\",\"linecolor\":\"white\",\"showbackground\":true,\"ticks\":\"\",\"zerolinecolor\":\"white\",\"gridwidth\":2},\"zaxis\":{\"backgroundcolor\":\"#E5ECF6\",\"gridcolor\":\"white\",\"linecolor\":\"white\",\"showbackground\":true,\"ticks\":\"\",\"zerolinecolor\":\"white\",\"gridwidth\":2}},\"shapedefaults\":{\"line\":{\"color\":\"#2a3f5f\"}},\"annotationdefaults\":{\"arrowcolor\":\"#2a3f5f\",\"arrowhead\":0,\"arrowwidth\":1},\"geo\":{\"bgcolor\":\"white\",\"landcolor\":\"#E5ECF6\",\"subunitcolor\":\"white\",\"showland\":true,\"showlakes\":true,\"lakecolor\":\"white\"},\"title\":{\"x\":0.05},\"mapbox\":{\"style\":\"light\"}}},\"title\":{\"text\":\"Layer Progress vs. Pearson Value\"},\"xaxis\":{\"title\":{\"text\":\"Layer Progress\"}},\"yaxis\":{\"title\":{\"text\":\"Pearson Value\"}},\"showlegend\":true,\"width\":700,\"height\":400},                        {\"responsive\": true}                    ).then(function(){\n",
       "                            \n",
       "var gd = document.getElementById('60ec040c-c452-4d22-90f3-2e1ac5c7b3fb');\n",
       "var x = new MutationObserver(function (mutations, observer) {{\n",
       "        var display = window.getComputedStyle(gd).display;\n",
       "        if (!display || display === 'none') {{\n",
       "            console.log([gd, 'removed!']);\n",
       "            Plotly.purge(gd);\n",
       "            observer.disconnect();\n",
       "        }}\n",
       "}});\n",
       "\n",
       "// Listen for the removal of the full notebook cells\n",
       "var notebookContainer = gd.closest('#notebook-container');\n",
       "if (notebookContainer) {{\n",
       "    x.observe(notebookContainer, {childList: true});\n",
       "}}\n",
       "\n",
       "// Listen for the clearing of the current output cell\n",
       "var outputEl = gd.closest('.output');\n",
       "if (outputEl) {{\n",
       "    x.observe(outputEl, {childList: true});\n",
       "}}\n",
       "\n",
       "                        })                };                });            </script>        </div>"
      ]
     },
     "metadata": {},
     "output_type": "display_data"
    }
   ],
   "source": [
    "import plotly.graph_objects as go\n",
    "\n",
    "# Colors for different models as RGB tuples\n",
    "colors = [\n",
    "    (0, 0, 255),  # blue\n",
    "    (255, 0, 0),  # red\n",
    "    (0, 128, 0),  # green\n",
    "    (128, 0, 128),  # purple\n",
    "    (255, 165, 0),  # orange\n",
    "    (0, 255, 255),  # cyan\n",
    "    # ... add more colors if needed\n",
    "]\n",
    "\n",
    "fig = go.Figure()\n",
    "\n",
    "for i, (name, df_i) in enumerate(df.groupby(\"model_name\")):\n",
    "    color = colors[i % len(colors)]  # Cycle through colors if there are more models than colors\n",
    "\n",
    "    grouped = df_i.groupby(\"layer_prog\")[\"val/pearson\"].agg([\"mean\", \"std\"]).fillna(0)\n",
    "\n",
    "    # Line for mean value\n",
    "    fig.add_trace(\n",
    "        go.Scatter(\n",
    "            x=grouped.index,\n",
    "            y=grouped[\"mean\"],\n",
    "            mode=\"lines\",\n",
    "            line=dict(color=f\"rgb{color}\"),\n",
    "            name=f\"{name} Mean\",\n",
    "        )\n",
    "    )\n",
    "\n",
    "    # Filled area for standard deviation\n",
    "    fig.add_trace(\n",
    "        go.Scatter(\n",
    "            x=grouped.index.tolist() + grouped.index.tolist()[::-1],\n",
    "            y=(grouped[\"mean\"] - grouped[\"std\"]).tolist() + (grouped[\"mean\"] + grouped[\"std\"]).tolist()[::-1],\n",
    "            fill=\"toself\",\n",
    "            fillcolor=f\"rgba({color[0]},{color[1]},{color[2]},0.1)\",\n",
    "            line=dict(color=\"rgba(255,255,255,0)\"),\n",
    "            name=f\"{name} Std Dev\",\n",
    "            showlegend=False,\n",
    "        )\n",
    "    )\n",
    "\n",
    "fig.update_layout(\n",
    "    title=\"Layer Progress vs. Pearson Value\",\n",
    "    xaxis_title=\"Layer Progress\",\n",
    "    yaxis_title=\"Pearson Value\",\n",
    "    showlegend=True,\n",
    "    width=700,\n",
    "    height=400,\n",
    ")\n",
    "\n",
    "fig.show()"
   ]
  },
  {
   "cell_type": "code",
   "execution_count": null,
   "metadata": {},
   "outputs": [],
   "source": []
  }
 ],
 "metadata": {
  "kernelspec": {
   "display_name": "Python 3 (ipykernel)",
   "language": "python",
   "name": "python3"
  },
  "language_info": {
   "codemirror_mode": {
    "name": "ipython",
    "version": 3
   },
   "file_extension": ".py",
   "mimetype": "text/x-python",
   "name": "python",
   "nbconvert_exporter": "python",
   "pygments_lexer": "ipython3",
   "version": "3.10.10"
  }
 },
 "nbformat": 4,
 "nbformat_minor": 4
}
