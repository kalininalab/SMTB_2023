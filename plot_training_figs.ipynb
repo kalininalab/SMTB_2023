{
 "cells": [
  {
   "cell_type": "code",
   "execution_count": null,
   "metadata": {},
   "outputs": [],
   "source": [
    "import pandas as pd\n",
    "import plotly.express as px\n",
    "import wandb\n",
    "import plotly.graph_objects as go"
   ]
  },
  {
   "cell_type": "code",
   "execution_count": null,
   "metadata": {},
   "outputs": [],
   "source": [
    "def export_project(project_name: str):\n",
    "    \"\"\"Load all runs from wandb project\"\"\"\n",
    "    api = wandb.Api()\n",
    "    entity, project = \"smtb2023\", project_name\n",
    "    runs = api.runs(entity + \"/\" + project)\n",
    "\n",
    "    summary_list, config_list, name_list = [], [], []\n",
    "    for run in runs:\n",
    "        summary_list.append(run.summary._json_dict)\n",
    "        config_list.append({k: v for k, v in run.config.items() if not k.startswith(\"_\")})\n",
    "        name_list.append(run.name)\n",
    "\n",
    "    runs_df = pd.DataFrame({\"summary\": summary_list, \"config\": config_list, \"name\": name_list})\n",
    "    rows = []\n",
    "    for i, row in runs_df.iterrows():\n",
    "        new_row = {}\n",
    "        new_row.update(row.summary)\n",
    "        new_row.update(row.config)\n",
    "        new_row.update({\"name\": row.name})\n",
    "        rows.append(new_row)\n",
    "    return pd.DataFrame(rows)\n"
   ]
  },
  {
   "cell_type": "code",
   "execution_count": null,
   "metadata": {},
   "outputs": [],
   "source": [
    "df = export_project(\"fluorescence\")\n",
    "df[\"layer_prog\"] = df.apply(lambda x: x[\"layer_num\"] / int(x[\"model_name\"].split(\"_\")[1][1:]), axis=1)\n",
    "df.sort_values(\"model_name\", inplace=True)\n",
    "df[\"total_layers\"] = df[\"model_name\"].apply(lambda x: int(x.split(\"_\")[1][1:]))\n",
    "df.sort_values(\"total_layers\", inplace=True)"
   ]
  },
  {
   "cell_type": "code",
   "execution_count": null,
   "metadata": {},
   "outputs": [],
   "source": [
    "import plotly.graph_objects as go\n",
    "\n",
    "# Colors for different models as RGB tuples\n",
    "colors = [\n",
    "    (0, 0, 255),  # blue\n",
    "    (255, 0, 0),  # red\n",
    "    (0, 128, 0),  # green\n",
    "    (128, 0, 128),  # purple\n",
    "    (255, 165, 0),  # orange\n",
    "    (0, 255, 255),  # cyan\n",
    "    # ... add more colors if needed\n",
    "]\n",
    "\n",
    "window = 3\n",
    "\n",
    "fig = go.Figure()\n",
    "\n",
    "for i, (name, df_i) in enumerate(df.groupby(\"model_name\")):\n",
    "    color = colors[i % len(colors)]  # Cycle through colors if there are more models than colors\n",
    "\n",
    "    grouped = df_i.groupby(\"layer_prog\")[\"val/pearson\"].agg([\"mean\", \"std\"]).fillna(0)\n",
    "    for col in ['mean', \"std\"]:\n",
    "        grouped[col] = grouped[col].rolling(window=window, center=True, min_periods=1).mean()\n",
    "\n",
    "    # Line for mean value\n",
    "    fig.add_trace(\n",
    "        go.Scatter(\n",
    "            x=grouped.index,\n",
    "            y=grouped[\"mean\"],\n",
    "            mode=\"lines\",\n",
    "            line=dict(color=f\"rgb{color}\"),\n",
    "            name=f\"{name} Mean\",\n",
    "        )\n",
    "    )\n",
    "\n",
    "    fig.add_trace(\n",
    "        go.Scatter(\n",
    "            x=grouped.index.tolist() + grouped.index.tolist()[::-1],\n",
    "            y=(grouped[\"mean\"] - grouped[\"std\"]).tolist() + (grouped[\"mean\"] + grouped[\"std\"]).tolist()[::-1],\n",
    "            fill=\"toself\",\n",
    "            fillcolor=f\"rgba({color[0]},{color[1]},{color[2]},0.06)\",\n",
    "            line=dict(color=\"rgba(255,255,255,0)\"),\n",
    "            name=f\"{name} Std Dev\",\n",
    "            showlegend=False,\n",
    "            hoverinfo=\"skip\",\n",
    "        )\n",
    "    )\n",
    "\n",
    "fig.update_layout(\n",
    "    title=\"Layer Progress vs. Pearson Value\",\n",
    "    xaxis_title=\"Layer Progress\",\n",
    "    yaxis_title=\"Pearson Value\",\n",
    "    showlegend=True,\n",
    "    width=1300,\n",
    "    height=800,\n",
    ")\n",
    "\n",
    "fig.show()"
   ]
  },
  {
   "cell_type": "code",
   "execution_count": null,
   "metadata": {},
   "outputs": [],
   "source": []
  }
 ],
 "metadata": {
  "kernelspec": {
   "display_name": "rindti",
   "language": "python",
   "name": "python3"
  },
  "language_info": {
   "codemirror_mode": {
    "name": "ipython",
    "version": 3
   },
   "file_extension": ".py",
   "mimetype": "text/x-python",
   "name": "python",
   "nbconvert_exporter": "python",
   "pygments_lexer": "ipython3",
   "version": "3.8.13"
  },
  "orig_nbformat": 4
 },
 "nbformat": 4,
 "nbformat_minor": 2
}
