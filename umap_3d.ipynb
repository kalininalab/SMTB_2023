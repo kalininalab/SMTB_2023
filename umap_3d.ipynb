{
 "cells": [
  {
   "cell_type": "code",
   "execution_count": null,
   "metadata": {},
   "outputs": [],
   "source": [
    "import esm\n",
    "import pandas as pd\n",
    "import numpy as np\n",
    "import plotly.express as px\n",
    "import plotly.graph_objects as go\n",
    "from tqdm import tqdm\n",
    "import torch\n",
    "import umap\n",
    "import colorsys\n",
    "import random"
   ]
  },
  {
   "cell_type": "code",
   "execution_count": null,
   "metadata": {},
   "outputs": [],
   "source": [
    "models = {\n",
    "    6: \"esm2_t6_8M_UR50D\",\n",
    "    12: \"esm2_t12_35M_UR50D\",\n",
    "    30: \"esm2_t30_150M_UR50D\",\n",
    "    33: \"esm2_t33_650M_UR50D\",\n",
    "}\n",
    "\n",
    "NUM_LAYERS = 30\n",
    "\n",
    "device = torch.device(\"cuda\" if torch.cuda.is_available() else \"cpu\")\n",
    "model, alphabet = getattr(esm.pretrained, models[NUM_LAYERS])()\n",
    "batch_converter = alphabet.get_batch_converter()\n",
    "model.eval().to(device)\n",
    "\n",
    "def run_esm(model, batch_converter, data, layers=range(NUM_LAYERS+1), contacts=False):\n",
    "    \"\"\"Runs the `model`, returns info from `layers`\"\"\"\n",
    "    results = []\n",
    "    for prot in tqdm(data):\n",
    "        batch_labels, batch_strs, batch_tokens = batch_converter([prot])\n",
    "        batch_tokens = batch_tokens.to(device)  # Ensure tokens are on the GPU\n",
    "        with torch.no_grad():\n",
    "            i = model.forward(batch_tokens, repr_layers=layers, return_contacts=contacts)\n",
    "            detached_i = {}\n",
    "            for k, v in i.items():\n",
    "                if isinstance(v, dict):  # Check if value is a dictionary (like \"representations\")\n",
    "                    detached_i[k] = {k1: v1.detach().cpu() for k1, v1 in v.items()}\n",
    "                else:\n",
    "                    detached_i[k] = v.detach().cpu()\n",
    "            results.append(detached_i)\n",
    "    return results"
   ]
  },
  {
   "cell_type": "code",
   "execution_count": null,
   "metadata": {},
   "outputs": [],
   "source": [
    "seq1 = \"MSKGEELFTGVVPILVELDGDVNGHKFSVSGEGEGDATYGKLTLKFICTTGKLPVPWPTLVTTFTYGVQCFSRYPDHMKRHDFFKSAMPEGYVQERTIFFKDDGNYKTRAEVKFEGDTLVNRIELKGIDFKEDGNILGHKLEYNYNSHNVYIMADKQKNGIKVNFKIRHNIEDGSVQLADHYQQNTPIGDGPVLLPDNHYLSTQSALSKDPNEKRDHMVLLEFVTAAGITHGMDELYK\"\n",
    "seq2 = ''.join(random.sample(seq1, len(seq1)))\n",
    "\n",
    "def mutate(sequence, fraction):\n",
    "    \"\"\"Mutate a fraction of the amino acids in a given protein sequence.\"\"\"\n",
    "    if not 0 <= fraction <= 1:\n",
    "        raise ValueError(\"Fraction must be between 0 and 1.\")\n",
    "    amino_acids = 'ACDEFGHIKLMNPQRSTVWY'\n",
    "    num_mutations = int(len(sequence) * fraction)\n",
    "    mutation_positions = random.sample(range(len(sequence)), num_mutations)\n",
    "    mutated_sequence = list(sequence)\n",
    "    for pos in mutation_positions:\n",
    "        choices = list(amino_acids.replace(mutated_sequence[pos], ''))\n",
    "        mutated_sequence[pos] = random.choice(choices)\n",
    "    return ''.join(mutated_sequence)\n",
    "\n",
    "\n",
    "data = [(\"prot1\", seq1), (\"prot2\", seq2)]\n",
    "for idx, i in enumerate(range(49)):\n",
    "    data.append((f\"prot1_{idx}\", mutate(seq1, 0.05)))\n",
    "    data.append((f\"prot2_{idx}\", mutate(seq2, 0.05)))"
   ]
  },
  {
   "cell_type": "code",
   "execution_count": null,
   "metadata": {},
   "outputs": [],
   "source": [
    "embeddings = run_esm(model, batch_converter, data)\n",
    "res = []\n",
    "for i in embeddings:\n",
    "    prot_array = []\n",
    "    for layer in range(NUM_LAYERS + 1):\n",
    "        prot_array.append(i[\"representations\"][layer].squeeze(0).mean(0))\n",
    "    res.append(torch.stack(prot_array))\n",
    "embeddings = torch.stack(res).transpose(0, 1)\n",
    "\n",
    "# embeddings = torch.stack([embeddings[0][\"representations\"][x].squeeze(0).mean(0) for x in range(NUM_LAYERS + 1)])\n",
    "embeddings_list = [pd.DataFrame(embeddings[i].numpy()) for i in range(embeddings.shape[0])]"
   ]
  },
  {
   "cell_type": "code",
   "execution_count": null,
   "metadata": {},
   "outputs": [],
   "source": [
    "def make_relation(from_df, to_df):\n",
    "    left = pd.DataFrame(data=np.arange(len(from_df)), index=from_df.index)\n",
    "    right = pd.DataFrame(data=np.arange(len(to_df)), index=to_df.index)\n",
    "    merge = pd.merge(left, right, left_index=True, right_index=True)\n",
    "    return dict(merge.values)\n",
    "\n",
    "\n",
    "relations = [make_relation(embeddings_list[i], embeddings_list[i + 1]) for i in range(len(embeddings_list) - 1)]"
   ]
  },
  {
   "cell_type": "code",
   "execution_count": null,
   "metadata": {},
   "outputs": [],
   "source": [
    "aligned_mapper = umap.AlignedUMAP(\n",
    "    metric=\"euclidean\",\n",
    "    n_neighbors=5,\n",
    "    alignment_regularisation=0.1,\n",
    "    alignment_window_size=5,\n",
    "    n_epochs=200,\n",
    "    random_state=42,\n",
    "    min_dist=0.1,\n",
    ").fit(embeddings_list, relations=relations)\n",
    "\n",
    "final_embeddings = aligned_mapper.embeddings_"
   ]
  },
  {
   "cell_type": "code",
   "execution_count": null,
   "metadata": {},
   "outputs": [],
   "source": [
    "df = []\n",
    "for idx, x in enumerate(final_embeddings):\n",
    "    df_i = pd.DataFrame(x, columns=[\"x\", \"y\"])\n",
    "    df_i[\"layer\"] = idx\n",
    "    df_i['source'] = [\"gfp\", \"mut\"] * (df_i.shape[0]//2)\n",
    "    df_i['name'] = [x[0] for x in data]\n",
    "    df.append(df_i)\n",
    "df = pd.concat(df)"
   ]
  },
  {
   "cell_type": "code",
   "execution_count": null,
   "metadata": {},
   "outputs": [],
   "source": [
    "def generate_colors(n):\n",
    "    hues = np.linspace(0.67, 0, n)  # Start from blue (0.67) to red (0)\n",
    "    colors = [colorsys.hsv_to_rgb(h, 1, 1) for h in hues]  # saturation=1, value=1 for full color\n",
    "    # Convert to plotly format: 'rgb(r,g,b)'\n",
    "    colors = [f\"rgb({int(r*255)},{int(g*255)},{int(b*255)})\" for r, g, b in colors]\n",
    "    return colors"
   ]
  },
  {
   "cell_type": "code",
   "execution_count": null,
   "metadata": {},
   "outputs": [],
   "source": [
    "\n",
    "fig = go.Figure()\n",
    "for source, i in df.groupby(\"source\"):\n",
    "    if source == \"gfp\":\n",
    "        color = \"green\"\n",
    "    else:\n",
    "        color = \"red\"\n",
    "    for name, j in i.groupby(\"name\"):\n",
    "        fig.add_trace(\n",
    "            go.Scatter3d(\n",
    "                x=j[\"x\"],\n",
    "                y=j[\"layer\"],\n",
    "                z=j[\"y\"],\n",
    "                mode=\"lines\",\n",
    "                line=dict(color=color, width=5),\n",
    "                # marker=dict(size=10, color=color, opacity=0.7),\n",
    "                name=name,\n",
    "            )\n",
    "        )\n",
    "fig.update_layout(width=1500, height=1000)\n",
    "## make lines thicker\n",
    "for trace in fig.data:\n",
    "    trace.line.width = 5\n",
    "fig.show()"
   ]
  },
  {
   "cell_type": "code",
   "execution_count": null,
   "metadata": {},
   "outputs": [],
   "source": []
  }
 ],
 "metadata": {
  "kernelspec": {
   "display_name": "rindti",
   "language": "python",
   "name": "python3"
  },
  "language_info": {
   "codemirror_mode": {
    "name": "ipython",
    "version": 3
   },
   "file_extension": ".py",
   "mimetype": "text/x-python",
   "name": "python",
   "nbconvert_exporter": "python",
   "pygments_lexer": "ipython3",
   "version": "3.8.13"
  },
  "orig_nbformat": 4
 },
 "nbformat": 4,
 "nbformat_minor": 2
}
